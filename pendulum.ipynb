{
 "cells": [
  {
   "cell_type": "markdown",
   "metadata": {},
   "source": [
    "# TFY4345 - Classical Mechanics - Numerical Exercise\n"
   ]
  },
  {
   "cell_type": "code",
   "execution_count": null,
   "metadata": {},
   "outputs": [],
   "source": [
    "'''Imports packages, functions and constants'''\n",
    "# Simple pendulum with Eulers method:\n",
    "import math\n",
    "import numpy as np\n",
    "from matplotlib import pyplot as plt\n",
    "from matplotlib.animation import FuncAnimation\n",
    "from scipy.constants import g\n",
    "from IPython.display import HTML"
   ]
  },
  {
   "cell_type": "markdown",
   "metadata": {},
   "source": [
    "## Simple Pendulum\n",
    "\n",
    "### Eulers Method"
   ]
  },
  {
   "cell_type": "code",
   "execution_count": null,
   "metadata": {},
   "outputs": [],
   "source": [
    "'''Function for Eulers method'''\n",
    "def euler_step(theta_vec, omg_vec, i, dt):\n",
    "    omg_vec[i+1] = omg_vec[i] - (g/l)*np.sin(theta_vec[i])*dt\n",
    "    theta_vec[i+1] = theta_vec[i] + omg_vec[i]*dt\n",
    "\n",
    "def euler_solve(theta_vec, omg_vec, dt):\n",
    "    for i in range(timesteps):\n",
    "        euler_step(theta_vec, omg_vec, i, dt)"
   ]
  },
  {
   "cell_type": "code",
   "execution_count": null,
   "metadata": {},
   "outputs": [],
   "source": [
    "'''Parameters and initial conditiions'''\n",
    "theta_0 = 0.2 #rad\n",
    "omg_0 = 0 #rad/s\n",
    "l = 1.0 #m (meter)\n",
    "sim_time = 5 #s, simulation time\n",
    "dt = 0.01 # s, timestep\n",
    "timesteps = int(sim_time/dt)"
   ]
  },
  {
   "cell_type": "code",
   "execution_count": null,
   "metadata": {},
   "outputs": [],
   "source": [
    "'''arrays with vals for plotting'''\n",
    "omg_vec = np.zeros(timesteps +1)\n",
    "theta_vec = np.zeros(timesteps + 1)\n",
    "t_vec = np.linspace(0, timesteps, theta_vec.size)\n",
    "\n",
    "# set initial values\n",
    "omg_vec[0] = omg_0\n",
    "theta_vec[0] = theta_0"
   ]
  },
  {
   "cell_type": "code",
   "execution_count": null,
   "metadata": {},
   "outputs": [],
   "source": [
    "euler_solve(theta_vec, omg_vec, dt)"
   ]
  },
  {
   "cell_type": "code",
   "execution_count": null,
   "metadata": {},
   "outputs": [],
   "source": [
    "# plot results\n",
    "plt.plot(t_vec, theta_vec)\n",
    "plt.show()\n",
    "plt.plot(t_vec, omg_vec)\n",
    "plt.show()"
   ]
  },
  {
   "cell_type": "code",
   "execution_count": null,
   "metadata": {},
   "outputs": [],
   "source": [
    "'''Animation, currently at arbitrary speed/time :p'''\n",
    "\n",
    "# cartesian coordinates of the pendulum tip\n",
    "x = np.sin(theta_vec)\n",
    "y = -np.cos(theta_vec)\n",
    "\n",
    "# arbitrarily chosen FPS\n",
    "FPS = 30\n",
    "\n",
    "# Set up fig and stuff for the animated plot\n",
    "fig = plt.figure()\n",
    "ax = plt.axes(xlim=(-2, 2), ylim=(-2, 2))\n",
    "string, = ax.plot([], [], lw=2)\n",
    "mass = plt.Circle((x[0], y[0]), 0.05, color='blue')\n",
    "framecount = int(FPS*sim_time)\n",
    "\n",
    "def init():\n",
    "    string.set_data([],[])\n",
    "    ax.add_artist(mass)\n",
    "    return string,\n",
    "\n",
    "\n",
    "def animate(j):\n",
    "    i = j*int(timesteps/framecount)\n",
    "    mass.center = (x[i], y[i])\n",
    "    string.set_data([0, x[i]], [0, y[i]])\n",
    "    return string, mass\n",
    "\n",
    "\n",
    "anim = FuncAnimation(fig, animate, init_func=init, frames=framecount, interval=20, blit=True)\n",
    "HTML(anim.to_html5_video())\n"
   ]
  },
  {
   "cell_type": "markdown",
   "metadata": {},
   "source": [
    "### Euler-Cromer method"
   ]
  },
  {
   "cell_type": "code",
   "execution_count": null,
   "metadata": {},
   "outputs": [],
   "source": [
    "def euler_cromer_step(theta_vec, omg_vec, i, dt):\n",
    "    omg_vec[i+1] = omg_vec[i] - (g/l)*np.sin(theta_vec[i])*dt\n",
    "    theta_vec[i+1] = theta_vec[i] + omg_vec[i+1]*dt\n",
    "\n",
    "def euler_cromer_solve(theta_vec, omg_vec, dt):\n",
    "    for i in range(timesteps):\n",
    "        euler_cromer_step(theta_vec, omg_vec, i, dt)"
   ]
  },
  {
   "cell_type": "code",
   "execution_count": null,
   "metadata": {},
   "outputs": [],
   "source": [
    "'''Resets arrays and v'''\n",
    "omg_vec = np.zeros(timesteps +1)\n",
    "theta_vec = np.zeros(timesteps + 1)\n",
    "t_vec = np.linspace(0, timesteps, theta_vec.size)\n",
    "\n",
    "# set initial values\n",
    "omg_vec[0] = omg_0\n",
    "theta_vec[0] = theta_0"
   ]
  },
  {
   "cell_type": "code",
   "execution_count": null,
   "metadata": {},
   "outputs": [],
   "source": [
    "euler_cromer_solve(theta_vec, omg_vec, dt)"
   ]
  },
  {
   "cell_type": "code",
   "execution_count": null,
   "metadata": {},
   "outputs": [],
   "source": [
    "# plot results\n",
    "plt.plot(t_vec, theta_vec)\n",
    "plt.show()\n",
    "plt.plot(t_vec, omg_vec)\n",
    "plt.show()"
   ]
  },
  {
   "cell_type": "code",
   "execution_count": null,
   "metadata": {},
   "outputs": [],
   "source": []
  }
 ],
 "metadata": {
  "kernelspec": {
   "display_name": "Python 3",
   "language": "python",
   "name": "python3"
  },
  "language_info": {
   "codemirror_mode": {
    "name": "ipython",
    "version": 3
   },
   "file_extension": ".py",
   "mimetype": "text/x-python",
   "name": "python",
   "nbconvert_exporter": "python",
   "pygments_lexer": "ipython3",
   "version": "3.7.4"
  }
 },
 "nbformat": 4,
 "nbformat_minor": 2
}
