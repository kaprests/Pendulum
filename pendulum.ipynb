{
 "cells": [
  {
   "cell_type": "markdown",
   "metadata": {},
   "source": [
    "# TFY4345 - Classical Mechanics - Numerical Exercise\n",
    "\n",
    "### Alexander Arntzen | Knut Andre G. Prestsveen\n",
    "\n",
    "This is a project in the course TFY4345 \"Classical Mechanics\" at the Norwegian University of Science and Technology. The notebook studies a simple pendulum, comparing the results of different numerical methods for solving the pendulum's equation of motion.\n",
    "\n",
    "The source code lies on [GitHub](https://github.com/kaprests/Pendulum)."
   ]
  },
  {
   "cell_type": "code",
   "execution_count": null,
   "metadata": {},
   "outputs": [],
   "source": [
    "'''Imports packages, functions and constants'''\n",
    "# Simple pendulum with Eulers method:\n",
    "import numpy as np\n",
    "from matplotlib import pyplot as plt\n",
    "from matplotlib import rc\n",
    "from matplotlib.animation import FuncAnimation\n",
    "from scipy.constants import g\n",
    "from scipy.integrate import solve_ivp\n",
    "from IPython.display import HTML"
   ]
  },
  {
   "cell_type": "code",
   "execution_count": null,
   "metadata": {},
   "outputs": [],
   "source": [
    "# Set common figure parameters:\n",
    "newparams = {'axes.labelsize': 11, 'axes.linewidth': 1, 'savefig.dpi': 300, \n",
    "             'lines.linewidth': 1.0, 'figure.figsize': (8, 3),\n",
    "             'ytick.labelsize': 10, 'xtick.labelsize': 10,\n",
    "             'ytick.major.pad': 5, 'xtick.major.pad': 5,}\n",
    "plt.rcParams.update(newparams)"
   ]
  },
  {
   "cell_type": "code",
   "execution_count": null,
   "metadata": {},
   "outputs": [],
   "source": [
    "'''Total energy of a pendulum'''\n",
    "def energies(theta, omg):\n",
    "    '''\n",
    "    Calculates the kinetic, potential and total energies of a pendulum.\n",
    "    \n",
    "    Input:\n",
    "        theta: angle between the pendulum and the vertical axis.\n",
    "        omg: the angular velocity of the pendulum.\n",
    "    Returns:\n",
    "        T: the pendulum's kinetic energy.\n",
    "        V: the pendulum's potential energy.\n",
    "        E_tot: the pendulum's total energy.\n",
    "    '''\n",
    "    T = (1/2)*m*(l**2)*omg**2\n",
    "    V = m*g*l*(1 - np.cos(theta))\n",
    "    E_tot = T + V\n",
    "    return T, V, E_tot"
   ]
  },
  {
   "cell_type": "markdown",
   "metadata": {},
   "source": [
    "## Simple Pendulum\n",
    "\n",
    "Here we will study a simple pendulum. We will solve the equation of motion with different numerical methods and compare with tha analytical solution to the small angle approximation case. \n",
    "\n",
    "<b>The pendulum has the following properties:</b>"
   ]
  },
  {
   "cell_type": "code",
   "execution_count": null,
   "metadata": {},
   "outputs": [],
   "source": [
    "'''Parameters and initial conditiions'''\n",
    "theta_0 = 0.2 #rad\n",
    "omg_0 = 0 #rad/s\n",
    "l = 1.0 #m (meter)\n",
    "m = 1.0 #kg\n",
    "sim_time = 10 #s, simulation time\n",
    "dt = 0.01 # s, timestep\n",
    "timesteps = int(sim_time/dt) # Number of timesteps\n",
    "phi = np.pi/2 #when omg_0 =0"
   ]
  },
  {
   "cell_type": "markdown",
   "metadata": {},
   "source": [
    "### Analytical solution with small angle approximation\n",
    "\n",
    "Here we implement the analytical solution where the pendulum's equation of motion is approximated with that of a harmonic oscillator."
   ]
  },
  {
   "cell_type": "code",
   "execution_count": null,
   "metadata": {},
   "outputs": [],
   "source": [
    "#Time axis\n",
    "t_vec = np.linspace(0, sim_time, timesteps)\n",
    "\n",
    "\"\"\"Anlytical method: \"\"\"\n",
    "theta_vec_analy = theta_0*np.sin(t_vec*np.sqrt(g/l) + phi)\n",
    "omg_vec_analy= theta_0*np.cos(t_vec*np.sqrt(g/l) + phi)*np.sqrt(g/l)"
   ]
  },
  {
   "cell_type": "markdown",
   "metadata": {},
   "source": [
    "### Eulers Method\n",
    "\n",
    "The first numerical method we implement is the simple Euler algorithm. "
   ]
  },
  {
   "cell_type": "code",
   "execution_count": null,
   "metadata": {},
   "outputs": [],
   "source": [
    "'''Functions for Eulers method'''\n",
    "def euler_step(theta_vec, omg_vec, i, dt):\n",
    "    '''\n",
    "    Performs one euler step\n",
    "    \n",
    "    input:\n",
    "        theta_vec: a vector for storing the angles of the pendulum.\n",
    "        omg_vec: a vector for storing the angular velocities of the pendulum.\n",
    "        i: iteration number.\n",
    "        dt: timestep.\n",
    "    '''\n",
    "    omg_vec[i+1] = omg_vec[i] - (g/l)*np.sin(theta_vec[i])*dt\n",
    "    theta_vec[i+1] = theta_vec[i] + omg_vec[i]*dt\n",
    "\n",
    "\n",
    "def euler_solve(theta_vec, omg_vec, dt):\n",
    "    '''\n",
    "    Iterates through all time steps with the euler_step function.\n",
    "    \n",
    "    input:\n",
    "        theta_vec: a vector for storing the angles of the pendulum.\n",
    "        omg_vec: a vector for storing the angular velocities of the pendulum.\n",
    "        i: iteration number.\n",
    "        dt: timestep. \n",
    "    '''\n",
    "    for i in range(timesteps-1):\n",
    "        euler_step(theta_vec, omg_vec, i, dt)"
   ]
  },
  {
   "cell_type": "code",
   "execution_count": null,
   "metadata": {},
   "outputs": [],
   "source": [
    "'''arrays with vals for plotting'''\n",
    "omg_vec_euler = np.zeros(timesteps)\n",
    "theta_vec_euler = np.zeros(timesteps)\n",
    "t_vec = np.linspace(0, sim_time, timesteps)\n",
    "\n",
    "\n",
    "# set initial values\n",
    "omg_vec_euler[0] = omg_0\n",
    "theta_vec_euler[0] = theta_0"
   ]
  },
  {
   "cell_type": "markdown",
   "metadata": {},
   "source": [
    "### Comparison - Euler method and harmonic oscillator\n",
    "\n",
    "We now compare the results of the Euler method solution with the analytical approximation."
   ]
  },
  {
   "cell_type": "code",
   "execution_count": null,
   "metadata": {},
   "outputs": [],
   "source": [
    "'''Compute results'''\n",
    "# Euler results\n",
    "euler_solve(theta_vec_euler, omg_vec_euler, dt)\n",
    "kin_energy_euler, pot_energy_euler, total_energy_euler = energies(theta_vec_euler, omg_vec_euler)\n",
    "\n",
    "# Analytical small angle results\n",
    "kin_energy_analy, pot_energy_analy, total_energy_analy = energies(theta_vec_analy, omg_vec_analy)"
   ]
  },
  {
   "cell_type": "markdown",
   "metadata": {},
   "source": [
    "To compare we plot the resulting angles and energies for the two solutions."
   ]
  },
  {
   "cell_type": "code",
   "execution_count": null,
   "metadata": {
    "scrolled": false
   },
   "outputs": [],
   "source": [
    "\"\"\"plot results\"\"\"\n",
    "plt.plot(t_vec, theta_vec_euler, label = \"Angle Euler\")\n",
    "plt.plot(t_vec, theta_vec_analy, label = \"Angle analytical \")\n",
    "plt.xlabel(\"Time [s]\")\n",
    "plt.ylabel(\"Angle [rad]\")\n",
    "plt.title(\"Angle\")\n",
    "plt.legend()\n",
    "plt.show()\n",
    "\n",
    "plt.plot(t_vec, kin_energy_euler, label=\"kinetic energy\")\n",
    "plt.plot(t_vec, pot_energy_euler, label=\"potential energy\")\n",
    "plt.plot(t_vec, total_energy_euler, label=\"total energy\")\n",
    "plt.xlabel(\"Time [s]\")\n",
    "plt.ylabel(\"Energy [J]\")\n",
    "plt.title(\"Energy - Euler\")\n",
    "plt.legend()\n",
    "plt.show()\n",
    "\n",
    "plt.plot(t_vec, total_energy_euler, label = \"Total energy Euler \")\n",
    "plt.plot(t_vec, total_energy_analy, label = \"Total energy analytical \")\n",
    "plt.xlabel(\"Time [s]\")\n",
    "plt.ylabel(\"Energy [J]\")\n",
    "plt.title(\"Energy - Euler and analytical\")\n",
    "plt.legend()\n",
    "plt.show()"
   ]
  },
  {
   "cell_type": "markdown",
   "metadata": {},
   "source": [
    "We see that the Euler method is unstable for this oscillatory system, and the amplitude of the pendulum is increasing with each iteration. This is also seen very well in the last plot of the total energy."
   ]
  },
  {
   "cell_type": "markdown",
   "metadata": {},
   "source": [
    "### Euler-Cromer method\n",
    "\n",
    "Then we implement the Euler-Cromer method, which is supposed to yield more stable sollutions to oscillatory problems."
   ]
  },
  {
   "cell_type": "code",
   "execution_count": null,
   "metadata": {},
   "outputs": [],
   "source": [
    "def euler_cromer_step(theta_vec, omg_vec, i, dt):\n",
    "    '''\n",
    "    Performs one euler-cromer step\n",
    "    \n",
    "    input:\n",
    "        theta_vec: a vector for storing the angles of the pendulum.\n",
    "        omg_vec: a vector for storing the angular velocities of the pendulum.\n",
    "        i: iteration number.\n",
    "        dt: timestep.\n",
    "    '''\n",
    "    omg_vec[i+1] = omg_vec[i] - (g/l)*np.sin(theta_vec[i])*dt\n",
    "    theta_vec[i+1] = theta_vec[i] + omg_vec[i+1]*dt\n",
    "\n",
    "    \n",
    "def euler_cromer_solve(theta_vec, omg_vec, dt):\n",
    "    '''\n",
    "    Iterates through all time steps with the euler_step function.\n",
    "    \n",
    "    input:\n",
    "        theta_vec: a vector for storing the angles of the pendulum.\n",
    "        omg_vec: a vector for storing the angular velocities of the pendulum.\n",
    "        i: iteration number.\n",
    "        dt: timestep. \n",
    "    '''\n",
    "    for i in range(timesteps-1):\n",
    "        euler_cromer_step(theta_vec, omg_vec, i, dt)"
   ]
  },
  {
   "cell_type": "code",
   "execution_count": null,
   "metadata": {},
   "outputs": [],
   "source": [
    "'''New arrays for Euler-Cromer'''\n",
    "omg_vec_cromer = np.zeros(timesteps)\n",
    "theta_vec_cromer = np.zeros(timesteps)\n",
    "\n",
    "\n",
    "# set initial values\n",
    "omg_vec_cromer[0] = omg_0\n",
    "theta_vec_cromer[0] = theta_0"
   ]
  },
  {
   "cell_type": "code",
   "execution_count": null,
   "metadata": {},
   "outputs": [],
   "source": [
    "euler_cromer_solve(theta_vec_cromer, omg_vec_cromer, dt)\n",
    "kin_energy_cromer, pot_energy_cromer, total_energy_cromer = energies(theta_vec_cromer, omg_vec_cromer)"
   ]
  },
  {
   "cell_type": "markdown",
   "metadata": {},
   "source": [
    "We now make an energy plot for the Euler-Cromer solution to verify that it yields a more stable solution than the Euler method."
   ]
  },
  {
   "cell_type": "code",
   "execution_count": null,
   "metadata": {
    "scrolled": false
   },
   "outputs": [],
   "source": [
    "# plot results\n",
    "plt.plot(t_vec, kin_energy_cromer, label=\"kintetic energy\")\n",
    "plt.plot(t_vec, pot_energy_cromer, label=\"potential energy\")\n",
    "plt.plot(t_vec, total_energy_cromer, label=\"total energy\")\n",
    "plt.xlabel(\"Time [s]\")\n",
    "plt.ylabel(\"Energy [J]\")\n",
    "plt.title(\"Energy - Euler-Cromer\")\n",
    "plt.legend()\n",
    "plt.show()"
   ]
  },
  {
   "cell_type": "markdown",
   "metadata": {},
   "source": [
    "### Runge-Kutta 4th order\n",
    "\n",
    "Finally we implement the Runge-Kutta method (4th order) from the scipy library. This is a much superior method which yields precise solutions even for much larger time steps than the three methods above. The scipy implementation is adaptive and uses variable time steps, but here we set the max_step=dt so that we use the same time step for all methods in order to get comparable plots."
   ]
  },
  {
   "cell_type": "code",
   "execution_count": null,
   "metadata": {},
   "outputs": [],
   "source": [
    "def ddt_omg_theta(t, y):\n",
    "    '''\n",
    "    Function defining the second order differential equation of motion as a pair of 1. order equations.\n",
    "    \n",
    "    Input:\n",
    "        t: time.\n",
    "        y: array for storing solution values.\n",
    "    Output:\n",
    "        A list containing the \"right hand side\" of the two first order equations.\n",
    "    '''\n",
    "    return [y[1], -(g/l)*np.sin(y[0])]"
   ]
  },
  {
   "cell_type": "code",
   "execution_count": null,
   "metadata": {},
   "outputs": [],
   "source": [
    "sol = solve_ivp(ddt_omg_theta, [0, sim_time], [0.2, 0], max_step=dt)\n",
    "theta_vec_RK45, omg_vec_RK45 = sol.y[0], sol.y[1]\n",
    "kin_energy_RK45, pot_energy_RK45, total_energy_RK45 = energies(sol.y[0], sol.y[1])"
   ]
  },
  {
   "cell_type": "markdown",
   "metadata": {},
   "source": [
    "Again an energy plot to see the stability of the solution."
   ]
  },
  {
   "cell_type": "code",
   "execution_count": null,
   "metadata": {
    "scrolled": true
   },
   "outputs": [],
   "source": [
    "plt.plot(sol.t, kin_energy_RK45, label=\"kinetic energy\")\n",
    "plt.plot(sol.t, pot_energy_RK45, label=\"potential energy\")\n",
    "plt.plot(sol.t, total_energy_RK45, label=\"total energy\")\n",
    "plt.xlabel(\"Time [s]\")\n",
    "plt.ylabel(\"Energy [J]\")\n",
    "plt.title(\"Energy - RK45\")\n",
    "plt.legend()\n",
    "plt.show()"
   ]
  },
  {
   "cell_type": "markdown",
   "metadata": {},
   "source": [
    "### Comparison - Euler, Euler-Cromer and RK45\n",
    "\n",
    "We now plot the angle and and total energy for all three methods as a function of time for several cycles. As mentioned we use the same time step for all methods, and we have chosen it such that we can see a clear difference with respect to the Euler method."
   ]
  },
  {
   "cell_type": "code",
   "execution_count": null,
   "metadata": {
    "scrolled": false
   },
   "outputs": [],
   "source": [
    "\"\"\"plot results\"\"\"\n",
    "plt.plot(t_vec, theta_vec_euler, label = \"Angle Euler\")\n",
    "plt.plot(t_vec, theta_vec_cromer, label = \"Angle Euler-Cromer\")\n",
    "plt.plot(sol.t, theta_vec_RK45, label = \"Angle Runge-Kutta 4(5)\")\n",
    "plt.xlabel(\"Time [s]\")\n",
    "plt.ylabel(\"Angle [rad]\")\n",
    "plt.title(\"Angles - all methods\")\n",
    "plt.legend()\n",
    "plt.show()\n",
    "\n",
    "plt.plot(t_vec, total_energy_euler, label = \"Total energy Euler \")\n",
    "plt.plot(t_vec, total_energy_cromer, label = \"Total Euler-Cromer \")\n",
    "plt.plot(sol.t, total_energy_RK45, label = \"Total Runge-Kutta 4(5)\")\n",
    "plt.xlabel(\"Time [s]\")\n",
    "plt.ylabel(\"Energy [J]\")\n",
    "plt.title(\"Total energy - all methods\")\n",
    "plt.legend()\n",
    "plt.show()"
   ]
  },
  {
   "cell_type": "markdown",
   "metadata": {},
   "source": [
    "### Trajectory in phase space\n",
    "\n",
    "We now plot the trajectory in the phase space (i.e. we select the angle and velocity as axes in a 2D coordinate system) for all three methods by using the time step above. The simulations are run for several cycles."
   ]
  },
  {
   "cell_type": "code",
   "execution_count": null,
   "metadata": {
    "scrolled": false
   },
   "outputs": [],
   "source": [
    "plt.plot(theta_vec_euler, omg_vec_euler, label = \"Trajectory Euler\")\n",
    "plt.plot(theta_vec_cromer, omg_vec_cromer, label = \"Trajectory Euler-Cromer\")\n",
    "plt.plot(theta_vec_RK45, omg_vec_RK45, label = \"Trajectory Runge-Kutta 4(5)\")\n",
    "plt.xlabel(\"Angle [rad]\")\n",
    "plt.ylabel(\"Angular velocity [rad/s]\")\n",
    "plt.title(\"Trajectory in phase space\")\n",
    "plt.legend()\n",
    "plt.show()"
   ]
  },
  {
   "cell_type": "markdown",
   "metadata": {},
   "source": [
    "### Different time steps for Euler-Cromer and Runge-Kutta"
   ]
  },
  {
   "cell_type": "code",
   "execution_count": null,
   "metadata": {
    "scrolled": false
   },
   "outputs": [],
   "source": [
    "\"\"\"Euler-Cromer new dt2\"\"\"\n",
    "dt2 = 0.1\n",
    "timesteps = int(sim_time/dt2)\n",
    "\n",
    "\n",
    "#New arrays for Euler-Cromer\n",
    "omg_vec_cromer2 = np.zeros(timesteps)\n",
    "theta_vec_cromer2 = np.zeros(timesteps)\n",
    "\n",
    "# set initial values\n",
    "omg_vec_cromer2[0] = omg_0\n",
    "theta_vec_cromer2[0] = theta_0\n",
    "\n",
    "euler_cromer_solve(theta_vec_cromer2, omg_vec_cromer2, dt2)\n",
    "kin_energy_cromer2, pot_energy_cromer2, total_energy_cromer2 = energies(theta_vec_cromer2, omg_vec_cromer2)\n",
    "\n",
    "plt.plot(theta_vec_cromer2, omg_vec_cromer2, label = f\"Trajectory Euler-Cromer 4(5) dt2 = {dt2}\")\n",
    "plt.xlabel(\"Angle [rad]\")\n",
    "plt.ylabel(\"Angular velocity [rad/s]\")\n",
    "plt.title(\"Phase space\")\n",
    "plt.legend()\n",
    "plt.show()\n",
    "\n",
    "\"\"\"Ruge kutta new dt2\"\"\"\n",
    "dt2 = 0.1\n",
    "\n",
    "sol2 = solve_ivp(ddt_omg_theta, t_span=[0, sim_time], y0=[theta_0, omg_0], max_step = dt2 )\n",
    "theta_vec_RK452, omg_vec_RK452 = sol2.y[0], sol2.y[1]\n",
    "kin_energy_RK452, pot_energy_RK452, total_energy_RK452 = energies(sol2.y[0], sol2.y[1])\n",
    "\n",
    "plt.plot(theta_vec_RK452, omg_vec_RK452, label = f\"Trajectory Runge-Kutta 4(5) dt2_max = {dt2}\")\n",
    "plt.xlabel(\"Angle [rad]\")\n",
    "plt.ylabel(\"Angular velocity [rad/s]\")\n",
    "plt.title(\"Phase space\")\n",
    "plt.legend()\n",
    "plt.show()"
   ]
  },
  {
   "cell_type": "markdown",
   "metadata": {},
   "source": [
    "By trying different values we find that a timestep of $dt ≤ 0.1$ leads to a resonable solutin for both methods."
   ]
  },
  {
   "cell_type": "markdown",
   "metadata": {},
   "source": [
    "### Animation\n",
    "\n",
    "Finally we make a simple animation of the simple pendulum "
   ]
  },
  {
   "cell_type": "code",
   "execution_count": null,
   "metadata": {
    "scrolled": false
   },
   "outputs": [],
   "source": [
    "'''Animation'''\n",
    "# cartesian coordinates of the pendulum tip\n",
    "timesteps = int(sim_time/dt) # back to the old number of time steps\n",
    "x = np.sin(theta_vec_RK45)\n",
    "y = -np.cos(theta_vec_RK45)\n",
    "\n",
    "\n",
    "# Set up fig and stuff for the animated plot\n",
    "fig = plt.figure(figsize=(2,2), dpi=60)\n",
    "ax = plt.axes(xlim=(-2, 2), ylim=(-2, 2))\n",
    "string, = ax.plot([], [], lw=2)\n",
    "mass = plt.Circle((x[0], y[0]), 0.05, color='blue')\n",
    "\n",
    "\n",
    "def init():\n",
    "    string.set_data([],[])\n",
    "    ax.add_artist(mass)\n",
    "    return string,\n",
    "\n",
    "\n",
    "def animate(i):\n",
    "    mass.center = (x[i], y[i])\n",
    "    string.set_data([0, x[i]], [0, y[i]])\n",
    "    return string, mass\n",
    "\n",
    "\n",
    "anim = FuncAnimation(fig, animate, init_func=init, frames=timesteps, interval=1000*dt, blit=True)\n",
    "plt.close(anim._fig)\n",
    "HTML(anim.to_html5_video())"
   ]
  }
 ],
 "metadata": {
  "kernelspec": {
   "display_name": "Python 3",
   "language": "python",
   "name": "python3"
  },
  "language_info": {
   "codemirror_mode": {
    "name": "ipython",
    "version": 3
   },
   "file_extension": ".py",
   "mimetype": "text/x-python",
   "name": "python",
   "nbconvert_exporter": "python",
   "pygments_lexer": "ipython3",
   "version": "3.7.4"
  }
 },
 "nbformat": 4,
 "nbformat_minor": 2
}
