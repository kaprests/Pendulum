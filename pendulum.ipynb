{
 "cells": [
  {
   "cell_type": "markdown",
   "metadata": {},
   "source": [
    "# TFY4345 - Classical Mechanics - Numerical Exercise\n"
   ]
  },
  {
   "cell_type": "code",
   "execution_count": null,
   "metadata": {},
   "outputs": [],
   "source": [
    "'''Imports packages, functions and constants'''\n",
    "# Simple pendulum with Eulers method:\n",
    "import numpy as np\n",
    "from matplotlib import pyplot as plt\n",
    "from matplotlib import rc\n",
    "from matplotlib.animation import FuncAnimation\n",
    "from scipy.constants import g\n",
    "from scipy.integrate import solve_ivp\n",
    "from IPython.display import HTML"
   ]
  },
  {
   "cell_type": "code",
   "execution_count": null,
   "metadata": {},
   "outputs": [],
   "source": [
    "# Set common figure parameters:\n",
    "newparams = {'axes.labelsize': 11, 'axes.linewidth': 1, 'savefig.dpi': 300, \n",
    "             'lines.linewidth': 1.0, 'figure.figsize': (8, 3),\n",
    "             'ytick.labelsize': 10, 'xtick.labelsize': 10,\n",
    "             'ytick.major.pad': 5, 'xtick.major.pad': 5,}\n",
    "plt.rcParams.update(newparams)"
   ]
  },
  {
   "cell_type": "code",
   "execution_count": null,
   "metadata": {},
   "outputs": [],
   "source": [
    "'''Total energy of a pendulum'''\n",
    "def energies(theta, omg):\n",
    "    T = (1/2)*m*(l**2)*omg**2\n",
    "    V = m*g*l*(1 - np.cos(theta))\n",
    "    E_tot = T + V\n",
    "    return T, V, E_tot"
   ]
  },
  {
   "cell_type": "code",
   "execution_count": null,
   "metadata": {},
   "outputs": [],
   "source": [
    "'''Parameters and initial conditiions'''\n",
    "theta_0 = 0.2 #rad\n",
    "omg_0 = 0 #rad/s\n",
    "l = 1.0 #m (meter)\n",
    "m = 1.0 #kg\n",
    "g = 9.81 #m/(s^2)\n",
    "sim_time = 10 #s, simulation time\n",
    "dt = 0.005 # s, timestep\n",
    "timesteps = int(sim_time/dt)\n",
    "phi = np.pi/2 #when omg_0 =0 "
   ]
  },
  {
   "cell_type": "markdown",
   "metadata": {},
   "source": [
    "## Simple Pendulum\n",
    "\n",
    "### 1. Implement the simple Euler algorithm for studying the numerical solution and test the effect of time step."
   ]
  },
  {
   "cell_type": "code",
   "execution_count": null,
   "metadata": {},
   "outputs": [],
   "source": [
    "#Time axis\n",
    "t_vec = np.linspace(0, sim_time, timesteps)\n",
    "\n",
    "\"\"\"Anlytical method: \"\"\"\n",
    "theta_vec_analy = theta_0*np.sin(t_vec*np.sqrt(g/l) + phi)\n",
    "omg_vec_analy= theta_0*np.cos(t_vec*np.sqrt(g/l) + phi)*np.sqrt(g/l)"
   ]
  },
  {
   "cell_type": "code",
   "execution_count": null,
   "metadata": {},
   "outputs": [],
   "source": [
    "\"\"\"Euler method: \"\"\"\n",
    "#Functions for Eulers method\n",
    "def euler_step(theta_vec, omg_vec, i, dt):\n",
    "    omg_vec[i+1] = omg_vec[i] - (g/l)*np.sin(theta_vec[i])*dt\n",
    "    theta_vec[i+1] = theta_vec[i] + omg_vec[i]*dt\n",
    "\n",
    "\n",
    "def euler_solve(theta_vec, omg_vec, dt):\n",
    "    for i in range(timesteps-1):\n",
    "        euler_step(theta_vec, omg_vec, i, dt)\n",
    "        \n",
    "#Numerical arrays with vals for plotting\n",
    "omg_vec_euler = np.zeros(timesteps)\n",
    "theta_vec_euler = np.zeros(timesteps)\n",
    "\n",
    "# set initial values\n",
    "omg_vec_euler[0] = omg_0\n",
    "theta_vec_euler[0] = theta_0\n",
    "\n",
    "euler_solve(theta_vec_euler, omg_vec_euler, dt)\n",
    "kin_energy_euler, pot_energy_euler, total_energy_euler = energies(theta_vec_euler, omg_vec_euler)\n",
    "kin_energy_analy, pot_energy_analy, total_energy_analy = energies(theta_vec_analy, omg_vec_analy)"
   ]
  },
  {
   "cell_type": "markdown",
   "metadata": {},
   "source": [
    "#### 1.1\n",
    "##### Task: \n",
    "*plot the angle and total energy as a function time in comparison with the analytical result for several cycles. Repeat this for several time steps, use also too large values that lead to unstable motion. Based on this analysis what is a reasonable time step in your opinion for the Euler method?*"
   ]
  },
  {
   "cell_type": "code",
   "execution_count": null,
   "metadata": {},
   "outputs": [],
   "source": [
    "\"\"\"plot results\"\"\"\n",
    "plt.plot(t_vec, theta_vec_euler, label = \"Angle Euler\")\n",
    "plt.plot(t_vec, theta_vec_analy, label = \"Angle analytical \")\n",
    "plt.xlabel(\"Time [s]\")\n",
    "plt.ylabel(\"Angle [rad]\")\n",
    "plt.legend()\n",
    "plt.show()\n",
    "\n",
    "plt.plot(t_vec, total_energy_euler, label = \"Total energy Euler \")\n",
    "plt.plot(t_vec, total_energy_analy, label = \"Total energy analytical \")\n",
    "plt.xlabel(\"Time [s]\")\n",
    "plt.ylabel(\"Energy [J]\")\n",
    "plt.legend()\n",
    "plt.show()\n"
   ]
  },
  {
   "cell_type": "markdown",
   "metadata": {},
   "source": [
    "When the inital angle is to large the two methods differ. For the initial condition of $\\theta_0 = 0.2$ rad it is sufficient to have a timestep of about 0.005 seconds. Still for all parameters the total energy of the computed solution and analytical solution differs a lot \n"
   ]
  },
  {
   "cell_type": "markdown",
   "metadata": {},
   "source": [
    "### 2. Add Euler-Cromer and Runge-Kutta (4th order) options for solving the differential equations."
   ]
  },
  {
   "cell_type": "code",
   "execution_count": null,
   "metadata": {},
   "outputs": [],
   "source": [
    "'''Euler-Cromer method: '''\n",
    "def euler_cromer_step(theta_vec, omg_vec, i, dt):\n",
    "    omg_vec[i+1] = omg_vec[i] - (g/l)*np.sin(theta_vec[i])*dt\n",
    "    theta_vec[i+1] = theta_vec[i] + omg_vec[i+1]*dt\n",
    "\n",
    "    \n",
    "    \n",
    "def euler_cromer_solve(theta_vec, omg_vec, dt):\n",
    "    for i in range(timesteps-1):\n",
    "        euler_cromer_step(theta_vec, omg_vec, i, dt)"
   ]
  },
  {
   "cell_type": "code",
   "execution_count": null,
   "metadata": {},
   "outputs": [],
   "source": [
    "#New arrays for Euler-Cromer\n",
    "omg_vec_cromer = np.zeros(timesteps)\n",
    "theta_vec_cromer = np.zeros(timesteps)\n",
    "\n",
    "# set initial values\n",
    "omg_vec_cromer[0] = omg_0\n",
    "theta_vec_cromer[0] = theta_0\n",
    "\n",
    "euler_cromer_solve(theta_vec_cromer, omg_vec_cromer, dt)\n",
    "kin_energy_cromer, pot_energy_cromer, total_energy_cromer = energies(theta_vec_cromer, omg_vec_cromer)"
   ]
  },
  {
   "cell_type": "code",
   "execution_count": null,
   "metadata": {},
   "outputs": [],
   "source": [
    "\"\"\"Runge-Kutta 4th order\"\"\"\n",
    "# y = [thetea, omega]\n",
    "\n",
    "def ddt_omg_theta(t, y):\n",
    "    return [y[1], -(g/l)*np.sin(y[0])]\n",
    "\n",
    "sol = solve_ivp(ddt_omg_theta, t_span=[0, sim_time], y0=[theta_0, omg_0], max_step = dt )\n",
    "theta_vec_RK45, omg_vec_RK45 = sol.y[0], sol.y[1]\n",
    "kin_energy_RK45, pot_energy_RK45, total_energy_RK45 = energies(sol.y[0], sol.y[1])\n"
   ]
  },
  {
   "cell_type": "markdown",
   "metadata": {},
   "source": [
    "#### 2.1 \n",
    "##### Task: \n",
    "*plot the angle and and total energy for all three methods as a function of time for several cycles. Use the same time step for all and choose it such that you can see a clear difference with respect to the Euler method. Take into account also computational efficiency aspects! There is no reason to use a very small time step if larger values perform alright.*"
   ]
  },
  {
   "cell_type": "code",
   "execution_count": null,
   "metadata": {},
   "outputs": [],
   "source": [
    "\n",
    "\"\"\"plot results\"\"\"\n",
    "plt.plot(t_vec, theta_vec_euler, label = \"Angle Euler\")\n",
    "plt.plot(t_vec, theta_vec_cromer, label = \"Angle Euler-Cromer\")\n",
    "plt.plot(sol.t, theta_vec_RK45, label = \"Angle Runge-Kutta 4(5)\")\n",
    "plt.xlabel(\"Time [s]\")\n",
    "plt.ylabel(\"Angle [rad]\")\n",
    "plt.legend()\n",
    "plt.show()\n",
    "\n",
    "plt.plot(t_vec, total_energy_euler, label = \"Total energy Euler \")\n",
    "plt.plot(t_vec, total_energy_cromer, label = \"Total Euler-Cromer \")\n",
    "plt.plot(sol.t, total_energy_RK45, label = \"Total Runge-Kutta 4(5)\")\n",
    "\n",
    "plt.xlabel(\"Time [s]\")\n",
    "plt.ylabel(\"Energy [J]\")\n",
    "plt.legend()\n",
    "plt.show()"
   ]
  },
  {
   "cell_type": "markdown",
   "metadata": {},
   "source": [
    "We se that the Runge-Kutta method is the best. "
   ]
  },
  {
   "cell_type": "markdown",
   "metadata": {},
   "source": [
    "#### 2.2 \n",
    "##### Task: \n",
    "*plot the trajectory in the phase space (i.e. select the angle and velocity as axes in a 2D coordinate system) for all three methods by using the time step above. Run the simulations for several cycles.*"
   ]
  },
  {
   "cell_type": "code",
   "execution_count": null,
   "metadata": {},
   "outputs": [],
   "source": [
    "plt.plot(theta_vec_euler, omg_vec_euler, label = \"Trajectory Euler\")\n",
    "plt.plot(theta_vec_cromer, omg_vec_cromer, label = \"Trajectory Euler-Cromer\")\n",
    "plt.plot(theta_vec_RK45, omg_vec_RK45, label = \"Trajectory Runge-Kutta 4(5)\")\n",
    "plt.xlabel(\"Angle [rad]\")\n",
    "plt.ylabel(\"Angular velocity [rad/s]\")\n",
    "plt.legend()\n",
    "plt.show()\n",
    "\n"
   ]
  },
  {
   "cell_type": "markdown",
   "metadata": {},
   "source": [
    "#### 2.3\n",
    "##### Task: \n",
    "*Test the effect of varying time step for Euler-Cromer and RK4, respectively. What values lead to satisfactory results in your opinion?*"
   ]
  },
  {
   "cell_type": "code",
   "execution_count": null,
   "metadata": {
    "scrolled": false
   },
   "outputs": [],
   "source": [
    "\"\"\"Euler-Cromer new dt\"\"\"\n",
    "dt = 0.1\n",
    "timesteps = int(sim_time/dt)\n",
    "\n",
    "\n",
    "#New arrays for Euler-Cromer\n",
    "omg_vec_cromer2 = np.zeros(timesteps)\n",
    "theta_vec_cromer2 = np.zeros(timesteps)\n",
    "\n",
    "# set initial values\n",
    "omg_vec_cromer2[0] = omg_0\n",
    "theta_vec_cromer2[0] = theta_0\n",
    "\n",
    "euler_cromer_solve(theta_vec_cromer2, omg_vec_cromer2, dt)\n",
    "kin_energy_cromer2, pot_energy_cromer2, total_energy_cromer2 = energies(theta_vec_cromer2, omg_vec_cromer2)\n",
    "\n",
    "plt.plot(theta_vec_cromer2, omg_vec_cromer2, label = f\"Trajectory Euler-Cromer 4(5) dt = {dt}\")\n",
    "plt.xlabel(\"Angle [rad]\")\n",
    "plt.ylabel(\"Angular velocity [rad/s]\")\n",
    "plt.legend()\n",
    "plt.show()\n",
    "\n",
    "\"\"\"Ruge kutta new dt\"\"\"\n",
    "dt = 0.1\n",
    "\n",
    "sol2 = solve_ivp(ddt_omg_theta, t_span=[0, sim_time], y0=[theta_0, omg_0], max_step = dt )\n",
    "theta_vec_RK452, omg_vec_RK452 = sol2.y[0], sol2.y[1]\n",
    "kin_energy_RK452, pot_energy_RK452, total_energy_RK452 = energies(sol2.y[0], sol2.y[1])\n",
    "\n",
    "plt.plot(theta_vec_RK452, omg_vec_RK452, label = f\"Trajectory Runge-Kutta 4(5) dt_max = {dt}\")\n",
    "plt.xlabel(\"Angle [rad]\")\n",
    "plt.ylabel(\"Angular velocity [rad/s]\")\n",
    "plt.legend()\n",
    "plt.show()"
   ]
  },
  {
   "cell_type": "markdown",
   "metadata": {},
   "source": [
    "By trying different values we find that a timestep of $dt ≤ 0.1$ leads to a resonable solutin for both methods."
   ]
  },
  {
   "cell_type": "code",
   "execution_count": null,
   "metadata": {},
   "outputs": [],
   "source": [
    "'''Animation'''\n",
    "# cartesian coordinates of the pendulum tip\n",
    "x = np.sin(theta_vec_cromer)\n",
    "y = -np.cos(theta_vec_cromer)\n",
    "\n",
    "# Set up fig and stuff for the animated plot\n",
    "fig = plt.figure(figsize=(2,2), dpi=60)\n",
    "ax = plt.axes(xlim=(-2, 2), ylim=(-2, 2))\n",
    "string, = ax.plot([], [], lw=2)\n",
    "mass = plt.Circle((x[0], y[0]), 0.05, color='blue')\n",
    "\n",
    "\n",
    "def init():\n",
    "    string.set_data([],[])\n",
    "    ax.add_artist(mass)\n",
    "    return string,\n",
    "\n",
    "\n",
    "def animate(i):\n",
    "    mass.center = (x[i], y[i])\n",
    "    string.set_data([0, x[i]], [0, y[i]])\n",
    "    return string, mass\n",
    "\n",
    "\n",
    "anim = FuncAnimation(fig, animate, init_func=init, frames=timesteps, interval=1000*dt, blit=True)\n",
    "plt.close(anim._fig)\n",
    "HTML(anim.to_html5_video())"
   ]
  },
  {
   "cell_type": "markdown",
   "metadata": {},
   "source": []
  },
  {
   "cell_type": "code",
   "execution_count": null,
   "metadata": {},
   "outputs": [],
   "source": []
  }
 ],
 "metadata": {
  "kernelspec": {
   "display_name": "Python 3",
   "language": "python",
   "name": "python3"
  },
  "language_info": {
   "codemirror_mode": {
    "name": "ipython",
    "version": 3
   },
   "file_extension": ".py",
   "mimetype": "text/x-python",
   "name": "python",
   "nbconvert_exporter": "python",
   "pygments_lexer": "ipython3",
   "version": "3.7.4"
  }
 },
 "nbformat": 4,
 "nbformat_minor": 2
}
