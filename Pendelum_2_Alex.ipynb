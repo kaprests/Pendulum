{
 "cells": [
  {
   "cell_type": "markdown",
   "metadata": {},
   "source": [
    "# TFY4345 - Classical Mechanics - Numerical Exercise\n",
    "\n",
    "### Alexander Arntzen | Knut Andre G. Prestsveen\n",
    "\n",
    "This is a project in the course TFY4345 \"Classical Mechanics\" at the Norwegian University of Science and Technology. The notebook studies a simple pendulum, comparing the results of different numerical methods for solving the pendulum's equation of motion.\n",
    "\n",
    "The source code lies on [GitHub](https://github.com/kaprests/Pendulum)."
   ]
  },
  {
   "cell_type": "code",
   "execution_count": null,
   "metadata": {},
   "outputs": [],
   "source": [
    "'''Imports packages, functions and constants'''\n",
    "# Simple pendulum with Eulers method:\n",
    "import numpy as np\n",
    "from matplotlib import pyplot as plt\n",
    "from matplotlib import rc\n",
    "from matplotlib.animation import FuncAnimation\n",
    "from scipy.constants import g\n",
    "from scipy.integrate import solve_ivp\n",
    "from IPython.display import HTML"
   ]
  },
  {
   "cell_type": "code",
   "execution_count": null,
   "metadata": {},
   "outputs": [],
   "source": [
    "# Set common figure parameters:\n",
    "newparams = {'axes.labelsize': 11, 'axes.linewidth': 1, 'savefig.dpi': 300, \n",
    "             'lines.linewidth': 1.0, 'figure.figsize': (8, 3),\n",
    "             'ytick.labelsize': 10, 'xtick.labelsize': 10,\n",
    "             'ytick.major.pad': 5, 'xtick.major.pad': 5,}\n",
    "plt.rcParams.update(newparams)"
   ]
  },
  {
   "cell_type": "code",
   "execution_count": null,
   "metadata": {},
   "outputs": [],
   "source": [
    "'''Total energy of a pendulum'''\n",
    "def energies(theta, omg):\n",
    "    '''\n",
    "    Calculates the kinetic, potential and total energies of a pendulum.\n",
    "    \n",
    "    Input:\n",
    "        theta: angle between the pendulum and the vertical axis.\n",
    "        omg: the angular velocity of the pendulum.\n",
    "    Returns:\n",
    "        T: the pendulum's kinetic energy.\n",
    "        V: the pendulum's potential energy.\n",
    "        E_tot: the pendulum's total energy.\n",
    "    '''\n",
    "    T = (1/2)*m*(l**2)*omg**2\n",
    "    V = m*g*l*(1 - np.cos(theta))\n",
    "    E_tot = T + V\n",
    "    return T, V, E_tot"
   ]
  },
  {
   "cell_type": "markdown",
   "metadata": {},
   "source": [
    "# Assignment 2 \n",
    "\n",
    "## Task 1 \n"
   ]
  },
  {
   "cell_type": "code",
   "execution_count": null,
   "metadata": {},
   "outputs": [],
   "source": [
    "'''Oppgave 1'''\n",
    "#Initial conditions\n",
    "m = 1 #kg \n",
    "l = 1 # m \n",
    "theta_0 = 0.2 # rad \n",
    "omega_0 = 0.0 # rad \n",
    "q = 1.0 # s^-1\n",
    "F_d = 0.2 # s^-2\n",
    "sim_time = 20 #s, simulation time\n",
    "dt = 0.1 # s, timestep\n",
    "omg_d = 3.3 # driving freq. for forced oscillator\n"
   ]
  },
  {
   "cell_type": "code",
   "execution_count": null,
   "metadata": {},
   "outputs": [],
   "source": [
    "def df(t, y,q=q,g=g,l=l): \n",
    "    '''\n",
    "    Defines the equation of motion as a pair of\n",
    "    first order equaitions.\n",
    "    '''\n",
    "    return [y[1],-g/l*y[0]-q*y[1] ]\n",
    "\n",
    "\n",
    "def theta_analytic(t,theta_0=theta_0,q=q,g=g,l=l):\n",
    "    '''\n",
    "    Analytical solution to the dampened oscillator\n",
    "    \n",
    "    input:\n",
    "        t: time\n",
    "        theta_0: initial position (angle)\n",
    "        q: dampening coefficient\n",
    "        g: gravitational acceleration\n",
    "        l: length of pendulum\n",
    "    output:\n",
    "        The analytical solution\n",
    "    '''\n",
    "    if q < np.sqrt(4*g/l):\n",
    "        return theta_0*np.exp(-q*t*0.5)*np.cos(np.sqrt((g/l)- q**2/4)*t)+ theta_0*q/(2*np.sqrt((g/l)- q**2/4))*np.exp(-q*t*0.5)*np.sin(np.sqrt((g/l)- q**2/4)*t)\n",
    "    elif q == np.sqrt(4*g/l):\n",
    "        return (theta_0+theta_0*q*0.5*t)*np.exp(-q*t/2)\n",
    "    else:\n",
    "        return (-q/2 + np.sqrt(q**2/4 - g/l))/(2*np.sqrt(q**2/4 - g/l))*theta_0*np.exp((-q/2 - np.sqrt(q**2/4 - g/l))*t) + (q/2 + np.sqrt(q**2/4 - g/l))/(2*np.sqrt(q**2/4 - g/l))*theta_0*np.exp((-q/2 + np.sqrt(q**2/4 - g/l))*t)\n",
    "\n",
    "\n"
   ]
  },
  {
   "cell_type": "code",
   "execution_count": null,
   "metadata": {},
   "outputs": [],
   "source": [
    "'''Underdamped'''\n",
    "q_under = np.sqrt(1*g/l)\n",
    "\n",
    "sol_under = solve_ivp(lambda t, y: df(t,y,q_under), t_span=[0, sim_time], y0=[theta_0, omega_0], max_step = dt )\n",
    "theta_vec_under, omg_vec_under = sol_under.y[0], sol_under.y[1]\n",
    "kin_energy_under, pot_energy_under, total_energy_under = energies(sol_under.y[0], sol_under.y[1])\n",
    "\n",
    "\"\"\"plot results\"\"\"\n",
    "plt.title(\"Underdamped\")\n",
    "plt.plot(sol_under.t, theta_vec_under, label = \"Angle numeric \")\n",
    "plt.plot(sol_under.t, theta_analytic(sol_under.t, q = q_under ), label = \"Angle analytic\")\n",
    "plt.xlabel(\"Time [s]\")\n",
    "plt.ylabel(\"Angle [rad]\")\n",
    "plt.legend()\n",
    "plt.show()\n",
    "\n",
    "plt.plot(sol_under.t, total_energy_under[0] - total_energy_under , label = \"Work done by dampening \")\n",
    "#plt.plot(sol.t, total_energy_RK45, label = \"Work done by dampening analytical\")\n",
    "plt.xlabel(\"Time [s]\")\n",
    "plt.ylabel(\"Energy [J]\")\n",
    "plt.legend()\n",
    "plt.show()\n",
    "\n",
    "plt.show()\n"
   ]
  },
  {
   "cell_type": "markdown",
   "metadata": {},
   "source": [
    "The analytical and numerical solutions are plottet on top of each other for a underdamped system. The solutions mach well."
   ]
  },
  {
   "cell_type": "code",
   "execution_count": null,
   "metadata": {},
   "outputs": [],
   "source": [
    "'''Critically damped'''\n",
    "q_crit = np.sqrt(4*g/l)\n",
    "sol_crit = solve_ivp(lambda t, y: df(t,y,q_crit), t_span=[0, sim_time], y0=[theta_0, omega_0], max_step = dt )\n",
    "theta_vec_crit, omg_vec_crit = sol_crit.y[0], sol_crit.y[1]\n",
    "kin_energy_crit, pot_energy_crit, total_energy_crit = energies(sol_crit.y[0], sol_crit.y[1])\n",
    "\n",
    "#plot results\n",
    "plt.title(\"critdamped\")\n",
    "plt.plot(sol_crit.t, theta_vec_crit, label = \"Angle numeric \")\n",
    "\n",
    "plt.plot(sol_crit.t, theta_analytic(sol_crit.t, q = q_crit ), label = \"Angle analytic\")\n",
    "plt.xlabel(\"Time [s]\")\n",
    "plt.ylabel(\"Angle [rad]\")\n",
    "plt.legend()\n",
    "plt.show()\n",
    "\n",
    "plt.plot(sol_crit.t, total_energy_crit[0] - total_energy_crit , label = \"Work done by dampening \")\n",
    "#plt.plot(sol.t, total_energy_RK45, label = \"Work done by dampening analytical\")\n",
    "plt.xlabel(\"Time [s]\")\n",
    "plt.ylabel(\"Energy [J]\")\n",
    "plt.legend()\n",
    "plt.show()"
   ]
  },
  {
   "cell_type": "markdown",
   "metadata": {},
   "source": [
    "The analytical and numerical solutions are plottet on top of each other for a critically damped system. The solutions mach well and we can see that the sysem converges to zero the fastest. "
   ]
  },
  {
   "cell_type": "code",
   "execution_count": null,
   "metadata": {},
   "outputs": [],
   "source": [
    "#Overdamped \n",
    "q_over = np.sqrt(8*g/l)\n",
    "sol_over = solve_ivp(lambda t, y: df(t,y,q_over), t_span=[0, sim_time], y0=[theta_0, omega_0], max_step = dt )\n",
    "theta_vec_over, omg_vec_over = sol_over.y[0], sol_over.y[1]\n",
    "kin_energy_over, pot_energy_over, total_energy_over = energies(sol_over.y[0], sol_over.y[1])\n",
    "\n",
    "\"\"\"plot results\"\"\"\n",
    "plt.title(\"Overdamped\")\n",
    "plt.plot(sol_over.t, theta_vec_over, label = \"Angle numeric \")\n",
    "plt.plot(sol_over.t, theta_analytic(sol_over.t, q = q_over ), label = \"Angle analytic\")\n",
    "plt.xlabel(\"Time [s]\")\n",
    "plt.ylabel(\"Angle [rad]\")\n",
    "plt.legend()\n",
    "plt.show()\n",
    "\n",
    "plt.plot(sol_over.t, total_energy_over[0] - total_energy_over , label = \"Work done by dampening \")\n",
    "#plt.plot(sol.t, total_energy_RK45, label = \"Work done by dampening analytical\")\n",
    "plt.xlabel(\"Time [s]\")\n",
    "plt.ylabel(\"Energy [J]\")\n",
    "plt.legend()\n",
    "plt.show()"
   ]
  },
  {
   "cell_type": "markdown",
   "metadata": {},
   "source": [
    "The analytical and numerical solutions are plottet on top of each other for an overdamped system. The solutions mach well. "
   ]
  },
  {
   "cell_type": "markdown",
   "metadata": {},
   "source": [
    "## Task 2 Forced harmonic pendulum"
   ]
  },
  {
   "cell_type": "code",
   "execution_count": null,
   "metadata": {},
   "outputs": [],
   "source": [
    "def ddt_omg_theta(t, y, omg_d=omg_d, q=q, F_d=F_d, g=g, l=l): \n",
    "    '''\n",
    "    Functions defining the eqn. of motion as a pair of\n",
    "    first order eqns.\n",
    "    '''\n",
    "    return [y[1], -g/l*y[0] - q*y[1] + F_d*np.sin(omg_d*t)]\n",
    "\n",
    "\n",
    "def steady_amp_analytical(omg_d=omg_d, F_d=F_d, q=q):\n",
    "    return F_d/(np.sqrt((np.sqrt(g/l)**2 - omg_d**2)**2 + (q*omg_d)**2))\n",
    "\n",
    "\n",
    "def particular(t, theta_0=theta_0, omg_d=theta_0, q=q, g=g, l=1,F_d=F_d):\n",
    "    return np.sin(omg_d*t-np.pi/2+np.arctan((g/l-omg_d**2)/(omg_d*q)) )*F_d/np.sqrt((g/l-omg_d**2)**2+ (q*omg_d)**2)\n"
   ]
  },
  {
   "cell_type": "code",
   "execution_count": null,
   "metadata": {},
   "outputs": [],
   "source": [
    "'''Apply the solution'''\n",
    "sol = solve_ivp(lambda t, y: ddt_omg_theta(t,y, omg_d=omg_d, q=q), t_span=[0, sim_time], y0=[theta_0, omega_0], max_step = dt )"
   ]
  },
  {
   "cell_type": "code",
   "execution_count": null,
   "metadata": {},
   "outputs": [],
   "source": [
    "'''Plot the results'''\n",
    "plt.plot(sol.t, sol.y[0], \".\",label = \"Angle numeric \")\n",
    "plt.plot(sol.t, +theta_analytic(sol.t) +particular(sol.t , omg_d=omg_d), label=\"Analytic solution\")\n",
    "plt.xlabel(\"Time [s]\")\n",
    "plt.ylabel(\"Angle [rad]\")\n",
    "plt.legend()\n",
    "plt.show()"
   ]
  },
  {
   "cell_type": "markdown",
   "metadata": {},
   "source": [
    "In the graph above the evolution of the angel $\\theta$ is plotted over time. We see that it has a periodic steady state with the same frequency as the driving frequency $\\Omega_D$. "
   ]
  },
  {
   "cell_type": "code",
   "execution_count": null,
   "metadata": {},
   "outputs": [],
   "source": [
    "n = 6 # Num qs\n",
    "m = 30 # Num omgDs\n",
    "omg_d_ref = np.sqrt(g/l) # analytical val\n",
    "qs = np.geomspace(1, 5, n)\n",
    "omg_ds = np.linspace(0.5*omg_d_ref,3*omg_d_ref, m)\n",
    "omg_ds_rel = omg_ds/omg_d_ref\n",
    "\n",
    "\n",
    "steady_amps = np.zeros([n,m])#[0]*n\n",
    "#steady_amps_q = [0]*n\n",
    "\n",
    "for i in range(len(qs)): \n",
    "    for j in range(len(omg_ds)):\n",
    "        sol = solve_ivp(lambda t, y: ddt_omg_theta(t, y , omg_d=omg_ds[j], q=qs[i]), t_span=[0, sim_time], y0=[theta_0, omega_0], max_step = dt )\n",
    "        steady_amps[i][j] = np.max(sol.y[0][3*len(sol.y[0])//4:])\n",
    "\n",
    "for i in range(len(qs)):\n",
    "    plt.plot(omg_ds_rel, steady_amps[i], label=\"q = \" + str(qs[i]))\n",
    "plt.title(\"Steady state amplitude of driving frequencies \")\n",
    "plt.xlabel(\"omega_D/omega [1]\")\n",
    "plt.ylabel(\"Resonant amplitude[rad]\")\n",
    "plt.legend()\n",
    "plt.show()\n",
    "\n",
    "for i in range(len(qs)):\n",
    "    plt.plot(omg_ds_rel, steady_amp_analytical(omg_d=omg_ds, q=qs[i]), label=\"q = \" + str(qs[i]))\n",
    "plt.title(\"Steady state amplitude of driving frequencies \")\n",
    "plt.xlabel(\"omega_D/omega [1]\")\n",
    "plt.ylabel(\"Resonant amplitude[rad]\")\n",
    "plt.legend()\n",
    "plt.show()\n",
    "\n"
   ]
  },
  {
   "cell_type": "markdown",
   "metadata": {},
   "source": [
    "The resonant frequency is plottet above for different values of $q$ and $\\Omega_D$. Here we se that the resonant amplitude indeed depends on $q$ and $\\Omega_D$. Resonance happens  the the resonant amplitude has a local maximum. This is observed for $q = 0$ and $\\Omega_D = \\omega$, where $\\omega$ is the natural frequency. Thus we have shown existance of resonance."
   ]
  }
 ],
 "metadata": {
  "kernelspec": {
   "display_name": "Python 3",
   "language": "python",
   "name": "python3"
  },
  "language_info": {
   "codemirror_mode": {
    "name": "ipython",
    "version": 3
   },
   "file_extension": ".py",
   "mimetype": "text/x-python",
   "name": "python",
   "nbconvert_exporter": "python",
   "pygments_lexer": "ipython3",
   "version": "3.7.4"
  }
 },
 "nbformat": 4,
 "nbformat_minor": 2
}
