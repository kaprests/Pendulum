{
 "cells": [
  {
   "cell_type": "markdown",
   "metadata": {},
   "source": [
    "# TFY4345 - Classical Mechanics - Numerical Exercise\n",
    "\n",
    "### Alexander Arntzen | Knut Andre G. Prestsveen\n",
    "\n",
    "This is a project in the course TFY4345 \"Classical Mechanics\" at the Norwegian University of Science and Technology. The notebook studies a simple pendulum, comparing the results of different numerical methods for solving the pendulum's equation of motion.\n",
    "\n",
    "The source code lies on [GitHub](https://github.com/kaprests/Pendulum)."
   ]
  },
  {
   "cell_type": "code",
   "execution_count": null,
   "metadata": {},
   "outputs": [],
   "source": [
    "'''Imports packages, functions and constants'''\n",
    "# Simple pendulum with Eulers method:\n",
    "import numpy as np\n",
    "from matplotlib import pyplot as plt\n",
    "from matplotlib import rc\n",
    "from matplotlib.animation import FuncAnimation\n",
    "from scipy.constants import g\n",
    "from scipy.integrate import solve_ivp\n",
    "from IPython.display import HTML"
   ]
  },
  {
   "cell_type": "code",
   "execution_count": null,
   "metadata": {},
   "outputs": [],
   "source": [
    "# Set common figure parameters:\n",
    "newparams = {'axes.labelsize': 11, 'axes.linewidth': 1, 'savefig.dpi': 300, \n",
    "             'lines.linewidth': 1.0, 'figure.figsize': (8, 3),\n",
    "             'ytick.labelsize': 10, 'xtick.labelsize': 10,\n",
    "             'ytick.major.pad': 5, 'xtick.major.pad': 5,}\n",
    "plt.rcParams.update(newparams)"
   ]
  },
  {
   "cell_type": "code",
   "execution_count": null,
   "metadata": {},
   "outputs": [],
   "source": [
    "'''Total energy of a pendulum'''\n",
    "def energies(theta, omg):\n",
    "    '''\n",
    "    Calculates the kinetic, potential and total energies of a pendulum.\n",
    "    \n",
    "    Input:\n",
    "        theta: angle between the pendulum and the vertical axis.\n",
    "        omg: the angular velocity of the pendulum.\n",
    "    Returns:\n",
    "        T: the pendulum's kinetic energy.\n",
    "        V: the pendulum's potential energy.\n",
    "        E_tot: the pendulum's total energy.\n",
    "    '''\n",
    "    T = (1/2)*m*(l**2)*omg**2\n",
    "    V = m*g*l*(1 - np.cos(theta))\n",
    "    E_tot = T + V\n",
    "    return T, V, E_tot"
   ]
  },
  {
   "cell_type": "markdown",
   "metadata": {},
   "source": [
    "# Assignment 2 \n",
    "\n",
    "## Task 1 \n"
   ]
  },
  {
   "cell_type": "code",
   "execution_count": null,
   "metadata": {},
   "outputs": [],
   "source": [
    "#Oppgave 1 \n",
    "#Initial conditions\n",
    "m = 1 #kg \n",
    "l = 1 # m \n",
    "g = 9.81 # m/s^2\n",
    "theta_0 = 0.2 # rad \n",
    "omega_0 = 0.0 # rad \n",
    "q_def = 1 # s^-1\n",
    "F_d = 0.2 # s^-2\n",
    "sim_time = 10 #s, simulation time\n",
    "dt = 0.1 # s, timestep\n",
    "\n"
   ]
  },
  {
   "cell_type": "code",
   "execution_count": null,
   "metadata": {},
   "outputs": [],
   "source": [
    "def Df(t, y,q=1,g=9.81,l=1): \n",
    "    return [y[1],-g/l*y[0]-q*y[1] ]\n",
    "\n",
    "def theta_analytic(t,theta_0=0.2,q=1,g=9.81,l=1):\n",
    "    if q < np.sqrt(4*g/l):\n",
    "        return theta_0*np.exp(-q*t*0.5)*np.cos(np.sqrt((g/l)- q**2/4)*t)+ theta_0*q/(2*np.sqrt((g/l)- q**2/4))*np.exp(-q*t*0.5)*np.sin(np.sqrt((g/l)- q**2/4)*t)\n",
    "    elif q == np.sqrt(4*g/l):\n",
    "        return (theta_0+theta_0*q*0.5*t)*np.exp(-q*t/2)\n",
    "    else:\n",
    "        return (-q/2 + np.sqrt(q**2/4 - g/l))/(2*np.sqrt(q**2/4 - g/l))*theta_0*np.exp((-q/2 - np.sqrt(q**2/4 - g/l))*t) + (q/2 + np.sqrt(q**2/4 - g/l))/(2*np.sqrt(q**2/4 - g/l))*theta_0*np.exp((-q/2 + np.sqrt(q**2/4 - g/l))*t)\n",
    "\n",
    "\n"
   ]
  },
  {
   "cell_type": "code",
   "execution_count": null,
   "metadata": {},
   "outputs": [],
   "source": [
    "#Underdamped \n",
    "q_under = np.sqrt(1*g/l)\n",
    "\n",
    "sol_under = solve_ivp(lambda t, y: Df(t,y,q_under), t_span=[0, sim_time], y0=[theta_0, omega_0], max_step = dt )\n",
    "theta_vec_under, omg_vec_under = sol_under.y[0], sol_under.y[1]\n",
    "kin_energy_under, pot_energy_under, total_energy_under = energies(sol_under.y[0], sol_under.y[1])\n",
    "\n",
    "\"\"\"plot results\"\"\"\n",
    "plt.title(\"Underdamped\")\n",
    "plt.plot(sol_under.t, theta_vec_under, label = \"Angle numeric \")\n",
    "plt.plot(sol_under.t, theta_analytic(sol_under.t, q = q_under ), label = \"Angle analytic\")\n",
    "plt.xlabel(\"Time [s]\")\n",
    "plt.ylabel(\"Angle [rad]\")\n",
    "plt.legend()\n",
    "plt.show()\n",
    "\n",
    "plt.plot(sol_under.t, total_energy_under[0] - total_energy_under , label = \"Work done by dampening \")\n",
    "#plt.plot(sol.t, total_energy_RK45, label = \"Work done by dampening analytical\")\n",
    "plt.xlabel(\"Time [s]\")\n",
    "plt.ylabel(\"Energy [J]\")\n",
    "plt.legend()\n",
    "plt.show()\n",
    "\n",
    "\n",
    "plt.show()\n",
    "\n",
    "\n"
   ]
  },
  {
   "cell_type": "markdown",
   "metadata": {},
   "source": [
    "The analytical and numerical solutions are plottet on top of each other for a underdamped system. The solutions mach well. "
   ]
  },
  {
   "cell_type": "code",
   "execution_count": null,
   "metadata": {},
   "outputs": [],
   "source": [
    "#Critically damped  \n",
    "q_crit = np.sqrt(4*g/l)\n",
    "sol_crit = solve_ivp(lambda t, y: Df(t,y,q_crit), t_span=[0, sim_time], y0=[theta_0, omega_0], max_step = dt )\n",
    "theta_vec_crit, omg_vec_crit = sol_crit.y[0], sol_crit.y[1]\n",
    "kin_energy_crit, pot_energy_crit, total_energy_crit = energies(sol_crit.y[0], sol_crit.y[1])\n",
    "\n",
    "\"\"\"plot results\"\"\"\n",
    "plt.title(\"critdamped\")\n",
    "plt.plot(sol_crit.t, theta_vec_crit, label = \"Angle numeric \")\n",
    "\n",
    "plt.plot(sol_crit.t, theta_analytic(sol_crit.t, q = q_crit ), label = \"Angle analytic\")\n",
    "plt.xlabel(\"Time [s]\")\n",
    "plt.ylabel(\"Angle [rad]\")\n",
    "plt.legend()\n",
    "plt.show()\n",
    "\n",
    "plt.plot(sol_crit.t, total_energy_crit[0] - total_energy_crit , label = \"Work done by dampening \")\n",
    "#plt.plot(sol.t, total_energy_RK45, label = \"Work done by dampening analytical\")\n",
    "plt.xlabel(\"Time [s]\")\n",
    "plt.ylabel(\"Energy [J]\")\n",
    "plt.legend()\n",
    "plt.show()"
   ]
  },
  {
   "cell_type": "markdown",
   "metadata": {},
   "source": [
    "The analytical and numerical solutions are plottet on top of each other for a critically damped system. The solutions mach well and we can see that the sysem converges to zero the fastest. "
   ]
  },
  {
   "cell_type": "code",
   "execution_count": null,
   "metadata": {},
   "outputs": [],
   "source": [
    "\n",
    "#Overdamped \n",
    "q_over = np.sqrt(8*g/l)\n",
    "sol_over = solve_ivp(lambda t, y: Df(t,y,q_over), t_span=[0, sim_time], y0=[theta_0, omega_0], max_step = dt )\n",
    "theta_vec_over, omg_vec_over = sol_over.y[0], sol_over.y[1]\n",
    "kin_energy_over, pot_energy_over, total_energy_over = energies(sol_over.y[0], sol_over.y[1])\n",
    "\n",
    "\"\"\"plot results\"\"\"\n",
    "plt.title(\"Overdamped\")\n",
    "plt.plot(sol_over.t, theta_vec_over, label = \"Angle numeric \")\n",
    "plt.plot(sol_over.t, theta_analytic(sol_over.t, q = q_over ), label = \"Angle analytic\")\n",
    "plt.xlabel(\"Time [s]\")\n",
    "plt.ylabel(\"Angle [rad]\")\n",
    "plt.legend()\n",
    "plt.show()\n",
    "\n",
    "plt.plot(sol_over.t, total_energy_over[0] - total_energy_over , label = \"Work done by dampening \")\n",
    "#plt.plot(sol.t, total_energy_RK45, label = \"Work done by dampening analytical\")\n",
    "plt.xlabel(\"Time [s]\")\n",
    "plt.ylabel(\"Energy [J]\")\n",
    "plt.legend()\n",
    "plt.show()"
   ]
  },
  {
   "cell_type": "markdown",
   "metadata": {},
   "source": [
    "The analytical and numerical solutions are plottet on top of each other for an overdamped system. The solutions mach well. "
   ]
  },
  {
   "cell_type": "markdown",
   "metadata": {},
   "source": [
    "## Task 2 Forced harmonic pendulum"
   ]
  },
  {
   "cell_type": "code",
   "execution_count": null,
   "metadata": {},
   "outputs": [],
   "source": [
    "def Df_d(t, y,omg_D=3.13,q=1.0,F_d = 0.2,g=9.81,l=1): \n",
    "    return [y[1],- g/l*y[0] - q*y[1] + F_d*np.sin(omg_D*t)]\n",
    "\n",
    "def steadyAmp(omg_D=3.13,q=1.0,F_d = 0.2,g=9.81,l=1): \n",
    "    return F_d/np.sqrt((g/l-omg_D**2)**2+(q*omg_D)**2)\n",
    "\n",
    "def particular(t,theta_0=0.2,omg_D = 3.132,q=1,g=9.81,l=1,F_d=0.2):\n",
    "    return np.sin(omg_D*t-np.pi/2+np.arctan((g/l-omg_D**2)/(omg_D*q)) )*F_d/np.sqrt((g/l-omg_D**2)**2+ (q*omg_D)**2)\n",
    "\n",
    "omgD_rel = np.array([0.5,1.2,2])*np.sqrt(g/l)\n",
    "for rel in omgD_rel:\n",
    "    sol = solve_ivp(lambda t, y: Df_d(t,y,omg_D = rel), t_span=[0, 20], y0=[theta_0, omega_0], max_step = dt )\n",
    "\n",
    "    \"\"\"plot results\"\"\"\n",
    "    plt.title(f\"Angle over time for forced pendulum for omega_D/omega = {rel/np.sqrt(g/l)}\" )\n",
    "    plt.plot(sol.t, sol.y[0], \".\",label = \"Angle numeric \")\n",
    "    plt.plot(sol.t, +theta_analytic(sol.t) +particular(sol.t , omg_D = rel  ), label = \"Analytic solution\")\n",
    "    plt.xlabel(\"Time [s]\")\n",
    "    plt.ylabel(\"Angle [rad]\")\n",
    "    plt.legend()\n",
    "    plt.show()"
   ]
  },
  {
   "cell_type": "markdown",
   "metadata": {},
   "source": [
    "In the graph above the evolutin of the ange $\\theta$ is plotted over time. We see that it has a periodic steady state with the same frequency as the driving frequency $\\Omega_D$. "
   ]
  },
  {
   "cell_type": "code",
   "execution_count": null,
   "metadata": {},
   "outputs": [],
   "source": [
    "total_time = 20 \n",
    "n = 200 # measure points\n",
    "\n",
    "Omg_D = np.linspace(0.1,3*np.sqrt(g/l),n)\n",
    "Omg_D_rel = Omg_D/np.sqrt(g/l)\n",
    "Q = np.linspace(0.1*np.sqrt(g/l),4*np.sqrt(g/l),n)\n",
    "                  \n",
    "steady_amps_omg = [0]*n\n",
    "steady_amps_q = [0]*n\n",
    "\n",
    "\n",
    "for i in range(n): \n",
    "    sol = solve_ivp(lambda t, y: Df_d(t,y,omg_D = Omg_D[i]), t_span=[0, total_time], y0=[theta_0, omega_0], max_step = dt )\n",
    "    steady_amps_omg[i] = np.max(sol.y[0][len(sol.y[0])//2:])\n",
    "\n",
    "for i in range(n): \n",
    "    sol = solve_ivp(lambda t, y: Df_d(t,y,q = Q[i]), t_span=[0, total_time], y0=[theta_0, omega_0], max_step = dt )\n",
    "    steady_amps_q[i] = np.max(sol.y[0][len(sol.y[0])//2:])\n",
    "\n",
    "plt.title(\"Steady state amplitude of driving frequencies \")\n",
    "plt.plot(Omg_D_rel,steady_amps_omg, \".\", label = \"Numerical ampltudes\")\n",
    "plt.plot(Omg_D_rel,steadyAmp(omg_D = Omg_D), label = \"Analytical ampltudes\")\n",
    "plt.xlabel(\"omega_D/omega [1]\")\n",
    "plt.ylabel(\"Resonant amplitude[rad]\")\n",
    "plt.legend()\n",
    "plt.show()\n",
    "\n",
    "plt.title(\"Steady state amplitude of dampning constant \")\n",
    "plt.plot(Q,steady_amps_q,\".\", label = \"Numerical ampltudes\")\n",
    "plt.plot(Q,steadyAmp(q = Q), label = \"Analytical ampltudes\")\n",
    "plt.xlabel(\"q [s^-1]\")\n",
    "plt.ylabel(\"Resonant amplitude [rad]\")\n",
    "plt.legend()\n",
    "plt.show()\n"
   ]
  },
  {
   "cell_type": "markdown",
   "metadata": {},
   "source": [
    "The resonant frequency is plottet above for different values of $q$ and $\\Omega_D$. Here we se that the resonant amplitude indeed depends on $q$ and $\\Omega_D$. Resonance happens  the the resonant amplitude has a local maximum. This is observed for $q = 0$ and $\\Omega_D = \\omega$, where $\\omega$ is the natural frequency. Thus we have shown existance of resonance."
   ]
  },
  {
   "cell_type": "code",
   "execution_count": null,
   "metadata": {},
   "outputs": [],
   "source": []
  },
  {
   "cell_type": "code",
   "execution_count": null,
   "metadata": {},
   "outputs": [],
   "source": []
  },
  {
   "cell_type": "code",
   "execution_count": null,
   "metadata": {},
   "outputs": [],
   "source": []
  }
 ],
 "metadata": {
  "kernelspec": {
   "display_name": "Python 3",
   "language": "python",
   "name": "python3"
  },
  "language_info": {
   "codemirror_mode": {
    "name": "ipython",
    "version": 3
   },
   "file_extension": ".py",
   "mimetype": "text/x-python",
   "name": "python",
   "nbconvert_exporter": "python",
   "pygments_lexer": "ipython3",
   "version": "3.7.4"
  }
 },
 "nbformat": 4,
 "nbformat_minor": 2
}
