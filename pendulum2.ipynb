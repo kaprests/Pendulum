{
 "cells": [
  {
   "cell_type": "markdown",
   "metadata": {},
   "source": [
    "# TFY4345 - Classical Mechanics - Numerical Exercise\n",
    "\n",
    "### Alexander Arntzen | Knut Andre G. Prestsveen\n",
    "\n",
    "This is a project in the course TFY4345 \"Classical Mechanics\" at the Norwegian University of Science and Technology. The notebook studies a simple pendulum, comparing the results of different numerical methods for solving the pendulum's equation of motion.\n",
    "\n",
    "The source code lies on [GitHub](https://github.com/kaprests/Pendulum)."
   ]
  },
  {
   "cell_type": "code",
   "execution_count": null,
   "metadata": {},
   "outputs": [],
   "source": [
    "'''Imports packages, functions and constants'''\n",
    "# Simple pendulum with Eulers method:\n",
    "import numpy as np\n",
    "from matplotlib import pyplot as plt\n",
    "from matplotlib import rc\n",
    "from matplotlib.animation import FuncAnimation\n",
    "from scipy.constants import g\n",
    "from scipy.integrate import solve_ivp\n",
    "from IPython.display import HTML"
   ]
  },
  {
   "cell_type": "code",
   "execution_count": null,
   "metadata": {},
   "outputs": [],
   "source": [
    "# Set common figure parameters:\n",
    "newparams = {'axes.labelsize': 11, 'axes.linewidth': 1, 'savefig.dpi': 300, \n",
    "             'lines.linewidth': 1.0, 'figure.figsize': (8, 3),\n",
    "             'ytick.labelsize': 10, 'xtick.labelsize': 10,\n",
    "             'ytick.major.pad': 5, 'xtick.major.pad': 5,}\n",
    "plt.rcParams.update(newparams)"
   ]
  },
  {
   "cell_type": "code",
   "execution_count": null,
   "metadata": {},
   "outputs": [],
   "source": [
    "'''Total energy of a pendulum'''\n",
    "def energies(theta, omg):\n",
    "    '''\n",
    "    Calculates the kinetic, potential and total energies of a pendulum.\n",
    "    \n",
    "    Input:\n",
    "        theta: angle between the pendulum and the vertical axis.\n",
    "        omg: the angular velocity of the pendulum.\n",
    "    Returns:\n",
    "        T: the pendulum's kinetic energy.\n",
    "        V: the pendulum's potential energy.\n",
    "        E_tot: the pendulum's total energy.\n",
    "    '''\n",
    "    T = (1/2)*m*(l**2)*omg**2\n",
    "    V = m*g*l*(1 - np.cos(theta))\n",
    "    E_tot = T + V\n",
    "    return T, V, E_tot"
   ]
  },
  {
   "cell_type": "markdown",
   "metadata": {},
   "source": [
    "## Simple Pendulum\n",
    "\n",
    "Here we will study a simple pendulum. We will solve the equation of motion with different numerical methods and compare with tha analytical solution to the small angle approximation case. \n",
    "\n",
    "<b>The pendulum has the following properties:</b>"
   ]
  },
  {
   "cell_type": "code",
   "execution_count": null,
   "metadata": {},
   "outputs": [],
   "source": [
    "'''Parameters and initial conditiions'''\n",
    "theta_0 = 0.2 #rad\n",
    "omg_0 = 0 #rad/s\n",
    "l = 1.0 #m (meter)\n",
    "m = 1.0 #kg\n",
    "sim_time = 10 #s, simulation time\n",
    "dt = 0.01 # s, timestep\n",
    "timesteps = int(sim_time/dt) # Number of timesteps\n",
    "phi = np.pi/2 #when omg_0 =0"
   ]
  },
  {
   "cell_type": "markdown",
   "metadata": {},
   "source": [
    "### Analytical solution with small angle approximation\n",
    "\n",
    "Here we implement the analytical solution where the pendulum's equation of motion is approximated with that of a harmonic oscillator."
   ]
  },
  {
   "cell_type": "code",
   "execution_count": null,
   "metadata": {},
   "outputs": [],
   "source": [
    "#Time axis\n",
    "t_vec = np.linspace(0, sim_time, timesteps)\n",
    "\n",
    "\"\"\"Anlytical method: \"\"\"\n",
    "theta_vec_analy = theta_0*np.sin(t_vec*np.sqrt(g/l) + phi)\n",
    "omg_vec_analy= theta_0*np.cos(t_vec*np.sqrt(g/l) + phi)*np.sqrt(g/l)"
   ]
  },
  {
   "cell_type": "markdown",
   "metadata": {},
   "source": [
    "### Eulers Method\n",
    "\n",
    "The first numerical method we implement is the simple Euler algorithm. "
   ]
  },
  {
   "cell_type": "code",
   "execution_count": null,
   "metadata": {},
   "outputs": [],
   "source": [
    "\"\"\"Euler method: \"\"\"\n",
    "#Functions for Eulers method\n",
    "def euler_step(theta_vec, omg_vec, i, dt):\n",
    "    '''\n",
    "    Performs one euler step\n",
    "    \n",
    "    input:\n",
    "        theta_vec: a vector for storing the angles of the pendulum.\n",
    "        omg_vec: a vector for storing the angular velocities of the pendulum.\n",
    "        i: iteration number.\n",
    "        dt: timestep.\n",
    "    '''\n",
    "    omg_vec[i+1] = omg_vec[i] - (g/l)*np.sin(theta_vec[i])*dt\n",
    "    theta_vec[i+1] = theta_vec[i] + omg_vec[i]*dt\n",
    "\n",
    "\n",
    "def euler_solve(theta_vec, omg_vec, dt):\n",
    "    '''\n",
    "    Iterates through all time steps with the euler_step function.\n",
    "    \n",
    "    input:\n",
    "        theta_vec: a vector for storing the angles of the pendulum.\n",
    "        omg_vec: a vector for storing the angular velocities of the pendulum.\n",
    "        i: iteration number.\n",
    "        dt: timestep. \n",
    "    '''\n",
    "    for i in range(timesteps-1):\n",
    "        euler_step(theta_vec, omg_vec, i, dt)\n",
    "        \n",
    "#Numerical arrays with vals for plotting\n",
    "omg_vec_euler = np.zeros(timesteps)\n",
    "theta_vec_euler = np.zeros(timesteps)\n",
    "\n",
    "# set initial values\n",
    "omg_vec_euler[0] = omg_0\n",
    "theta_vec_euler[0] = theta_0\n",
    "\n",
    "euler_solve(theta_vec_euler, omg_vec_euler, dt)\n",
    "kin_energy_euler, pot_energy_euler, total_energy_euler = energies(theta_vec_euler, omg_vec_euler)\n",
    "kin_energy_analy, pot_energy_analy, total_energy_analy = energies(theta_vec_analy, omg_vec_analy)"
   ]
  },
  {
   "cell_type": "code",
   "execution_count": null,
   "metadata": {},
   "outputs": [],
   "source": [
    "'''arrays with vals for plotting'''\n",
    "omg_vec_euler = np.zeros(timesteps)\n",
    "theta_vec_euler = np.zeros(timesteps)\n",
    "t_vec = np.linspace(0, sim_time, timesteps)\n",
    "\n",
    "\n",
    "# set initial values\n",
    "omg_vec_euler[0] = omg_0\n",
    "theta_vec_euler[0] = theta_0"
   ]
  },
  {
   "cell_type": "markdown",
   "metadata": {},
   "source": [
    "### Comparison - Euler method and harmonic oscillator\n",
    "\n",
    "We now compare the results of the Euler method solution with the analytical approximation."
   ]
  },
  {
   "cell_type": "code",
   "execution_count": null,
   "metadata": {},
   "outputs": [],
   "source": [
    "'''Compute results'''\n",
    "# Euler results\n",
    "euler_solve(theta_vec_euler, omg_vec_euler, dt)\n",
    "kin_energy_euler, pot_energy_euler, total_energy_euler = energies(theta_vec_euler, omg_vec_euler)\n",
    "\n",
    "# Analytical small angle results\n",
    "kin_energy_analy, pot_energy_analy, total_energy_analy = energies(theta_vec_analy, omg_vec_analy)"
   ]
  },
  {
   "cell_type": "markdown",
   "metadata": {},
   "source": [
    "To compare we plot the resulting angles and energies for the two solutions."
   ]
  },
  {
   "cell_type": "code",
   "execution_count": null,
   "metadata": {
    "scrolled": false
   },
   "outputs": [],
   "source": [
    "\"\"\"plot results\"\"\"\n",
    "plt.plot(t_vec, theta_vec_euler, label = \"Angle Euler\")\n",
    "plt.plot(t_vec, theta_vec_analy, label = \"Angle analytical \")\n",
    "plt.xlabel(\"Time [s]\")\n",
    "plt.ylabel(\"Angle [rad]\")\n",
    "plt.title(\"Angle\")\n",
    "plt.legend()\n",
    "plt.show()\n",
    "\n",
    "plt.plot(t_vec, kin_energy_euler, label=\"kinetic energy\")\n",
    "plt.plot(t_vec, pot_energy_euler, label=\"potential energy\")\n",
    "plt.plot(t_vec, total_energy_euler, label=\"total energy\")\n",
    "plt.xlabel(\"Time [s]\")\n",
    "plt.ylabel(\"Energy [J]\")\n",
    "plt.title(\"Energy - Euler\")\n",
    "plt.legend()\n",
    "plt.show()\n",
    "\n",
    "plt.plot(t_vec, total_energy_euler, label = \"Total energy Euler \")\n",
    "plt.plot(t_vec, total_energy_analy, label = \"Total energy analytical \")\n",
    "plt.xlabel(\"Time [s]\")\n",
    "plt.ylabel(\"Energy [J]\")\n",
    "plt.title(\"Energy - Euler and analytical\")\n",
    "plt.legend()\n",
    "plt.show()"
   ]
  },
  {
   "cell_type": "markdown",
   "metadata": {},
   "source": [
    "We see that the Euler method is unstable for this oscillatory system, and the amplitude of the pendulum is increasing with each iteration. This is also seen very well in the last plot of the total energy."
   ]
  },
  {
   "cell_type": "markdown",
   "metadata": {},
   "source": [
    "### Euler-Cromer method\n",
    "\n",
    "Then we implement the Euler-Cromer method, which is supposed to yield more stable sollutions to oscillatory problems."
   ]
  },
  {
   "cell_type": "code",
   "execution_count": null,
   "metadata": {},
   "outputs": [],
   "source": [
    "'''Euler-Cromer method: '''\n",
    "def euler_cromer_step(theta_vec, omg_vec, i, dt):\n",
    "    '''\n",
    "    Performs one euler-cromer step\n",
    "    \n",
    "    input:\n",
    "        theta_vec: a vector for storing the angles of the pendulum.\n",
    "        omg_vec: a vector for storing the angular velocities of the pendulum.\n",
    "        i: iteration number.\n",
    "        dt: timestep.\n",
    "    '''\n",
    "    omg_vec[i+1] = omg_vec[i] - (g/l)*np.sin(theta_vec[i])*dt\n",
    "    theta_vec[i+1] = theta_vec[i] + omg_vec[i+1]*dt\n",
    "\n",
    "    \n",
    "    \n",
    "def euler_cromer_solve(theta_vec, omg_vec, dt):\n",
    "    '''\n",
    "    Iterates through all time steps with the euler_step function.\n",
    "    \n",
    "    input:\n",
    "        theta_vec: a vector for storing the angles of the pendulum.\n",
    "        omg_vec: a vector for storing the angular velocities of the pendulum.\n",
    "        i: iteration number.\n",
    "        dt: timestep. \n",
    "    '''\n",
    "    for i in range(timesteps-1):\n",
    "        euler_cromer_step(theta_vec, omg_vec, i, dt)"
   ]
  },
  {
   "cell_type": "code",
   "execution_count": null,
   "metadata": {},
   "outputs": [],
   "source": [
    "#New arrays for Euler-Cromer\n",
    "omg_vec_cromer = np.zeros(timesteps)\n",
    "theta_vec_cromer = np.zeros(timesteps)\n",
    "\n",
    "# set initial values\n",
    "omg_vec_cromer[0] = omg_0\n",
    "theta_vec_cromer[0] = theta_0\n",
    "\n",
    "euler_cromer_solve(theta_vec_cromer, omg_vec_cromer, dt)\n",
    "kin_energy_cromer, pot_energy_cromer, total_energy_cromer = energies(theta_vec_cromer, omg_vec_cromer)"
   ]
  },
  {
   "cell_type": "code",
   "execution_count": null,
   "metadata": {},
   "outputs": [],
   "source": [
    "\"\"\"Runge-Kutta 4th order\"\"\"\n",
    "# y = [thetea, omega]\n",
    "\n",
    "def ddt_omg_theta(t, y):\n",
    "    return [y[1], -(g/l)*np.sin(y[0])]\n",
    "\n",
    "sol = solve_ivp(ddt_omg_theta, t_span=[0, sim_time], y0=[theta_0, omg_0], max_step = dt )\n",
    "theta_vec_RK45, omg_vec_RK45 = sol.y[0], sol.y[1]\n",
    "kin_energy_RK45, pot_energy_RK45, total_energy_RK45 = energies(sol.y[0], sol.y[1])\n"
   ]
  },
  {
   "cell_type": "markdown",
   "metadata": {},
   "source": [
    "#### 2.1 \n",
    "##### Task: \n",
    "*plot the angle and and total energy for all three methods as a function of time for several cycles. Use the same time step for all and choose it such that you can see a clear difference with respect to the Euler method. Take into account also computational efficiency aspects! There is no reason to use a very small time step if larger values perform alright.*"
   ]
  },
  {
   "cell_type": "code",
   "execution_count": null,
   "metadata": {},
   "outputs": [],
   "source": [
    "\n",
    "\"\"\"plot results\"\"\"\n",
    "plt.plot(t_vec, theta_vec_euler, label = \"Angle Euler\")\n",
    "plt.plot(t_vec, theta_vec_cromer, label = \"Angle Euler-Cromer\")\n",
    "plt.plot(sol.t, theta_vec_RK45, label = \"Angle Runge-Kutta 4(5)\")\n",
    "plt.xlabel(\"Time [s]\")\n",
    "plt.ylabel(\"Angle [rad]\")\n",
    "plt.legend()\n",
    "plt.show()\n",
    "\n",
    "plt.plot(t_vec, total_energy_euler, label = \"Total energy Euler \")\n",
    "plt.plot(t_vec, total_energy_cromer, label = \"Total Euler-Cromer \")\n",
    "plt.plot(sol.t, total_energy_RK45, label = \"Total Runge-Kutta 4(5)\")\n",
    "\n",
    "plt.xlabel(\"Time [s]\")\n",
    "plt.ylabel(\"Energy [J]\")\n",
    "plt.legend()\n",
    "plt.show()"
   ]
  },
  {
   "cell_type": "markdown",
   "metadata": {},
   "source": [
    "We se that the Runge-Kutta method is the best. "
   ]
  },
  {
   "cell_type": "markdown",
   "metadata": {},
   "source": [
    "#### 2.2 \n",
    "##### Task: \n",
    "*plot the trajectory in the phase space (i.e. select the angle and velocity as axes in a 2D coordinate system) for all three methods by using the time step above. Run the simulations for several cycles.*"
   ]
  },
  {
   "cell_type": "code",
   "execution_count": null,
   "metadata": {},
   "outputs": [],
   "source": [
    "plt.plot(theta_vec_euler, omg_vec_euler, label = \"Trajectory Euler\")\n",
    "plt.plot(theta_vec_cromer, omg_vec_cromer, label = \"Trajectory Euler-Cromer\")\n",
    "plt.plot(theta_vec_RK45, omg_vec_RK45, label = \"Trajectory Runge-Kutta 4(5)\")\n",
    "plt.xlabel(\"Angle [rad]\")\n",
    "plt.ylabel(\"Angular velocity [rad/s]\")\n",
    "plt.legend()\n",
    "plt.show()\n",
    "\n"
   ]
  },
  {
   "cell_type": "markdown",
   "metadata": {},
   "source": [
    "#### 2.3\n",
    "##### Task: \n",
    "*Test the effect of varying time step for Euler-Cromer and RK4, respectively. What values lead to satisfactory results in your opinion?*"
   ]
  },
  {
   "cell_type": "markdown",
   "metadata": {},
   "source": [
    "We now make an energy plot for the Euler-Cromer solution to verify that it yields a more stable solution than the Euler method."
   ]
  },
  {
   "cell_type": "code",
   "execution_count": null,
   "metadata": {
    "scrolled": false
   },
   "outputs": [],
   "source": [
    "# plot results\n",
    "plt.plot(t_vec, kin_energy_cromer, label=\"kintetic energy\")\n",
    "plt.plot(t_vec, pot_energy_cromer, label=\"potential energy\")\n",
    "plt.plot(t_vec, total_energy_cromer, label=\"total energy\")\n",
    "plt.xlabel(\"Time [s]\")\n",
    "plt.ylabel(\"Energy [J]\")\n",
    "plt.title(\"Energy - Euler-Cromer\")\n",
    "plt.legend()\n",
    "plt.show()"
   ]
  },
  {
   "cell_type": "markdown",
   "metadata": {},
   "source": [
    "### Runge-Kutta 4th order\n",
    "\n",
    "Finally we implement the Runge-Kutta method (4th order) from the scipy library. This is a much superior method which yields precise solutions even for much larger time steps than the three methods above. The scipy implementation is adaptive and uses variable time steps, but here we set the max_step=dt so that we use the same time step for all methods in order to get comparable plots."
   ]
  },
  {
   "cell_type": "code",
   "execution_count": null,
   "metadata": {},
   "outputs": [],
   "source": [
    "def ddt_omg_theta(t, y):\n",
    "    '''\n",
    "    Function defining the second order differential equation of motion as a pair of 1. order equations.\n",
    "    \n",
    "    Input:\n",
    "        t: time.\n",
    "        y: array for storing solution values.\n",
    "    Output:\n",
    "        A list containing the \"right hand side\" of the two first order equations.\n",
    "    '''\n",
    "    return [y[1], -(g/l)*np.sin(y[0])]"
   ]
  },
  {
   "cell_type": "code",
   "execution_count": null,
   "metadata": {},
   "outputs": [],
   "source": [
    "sol = solve_ivp(ddt_omg_theta, [0, sim_time], [theta_0, 0], max_step=dt)\n",
    "theta_vec_RK45, omg_vec_RK45 = sol.y[0], sol.y[1]\n",
    "kin_energy_RK45, pot_energy_RK45, total_energy_RK45 = energies(sol.y[0], sol.y[1])"
   ]
  },
  {
   "cell_type": "markdown",
   "metadata": {},
   "source": [
    "Again an energy plot to see the stability of the solution."
   ]
  },
  {
   "cell_type": "code",
   "execution_count": null,
   "metadata": {
    "scrolled": true
   },
   "outputs": [],
   "source": [
    "plt.plot(sol.t, kin_energy_RK45, label=\"kinetic energy\")\n",
    "plt.plot(sol.t, pot_energy_RK45, label=\"potential energy\")\n",
    "plt.plot(sol.t, total_energy_RK45, label=\"total energy\")\n",
    "plt.xlabel(\"Time [s]\")\n",
    "plt.ylabel(\"Energy [J]\")\n",
    "plt.title(\"Energy - RK45\")\n",
    "plt.legend()\n",
    "plt.show()"
   ]
  },
  {
   "cell_type": "markdown",
   "metadata": {},
   "source": [
    "### Comparison - Euler, Euler-Cromer and RK45\n",
    "\n",
    "We now plot the angle and and total energy for all three methods as a function of time for several cycles. As mentioned we use the same time step for all methods, and we have chosen it such that we can see a clear difference with respect to the Euler method."
   ]
  },
  {
   "cell_type": "code",
   "execution_count": null,
   "metadata": {
    "scrolled": false
   },
   "outputs": [],
   "source": [
    "\"\"\"plot results\"\"\"\n",
    "plt.plot(t_vec, theta_vec_euler, label = \"Angle Euler\")\n",
    "plt.plot(t_vec, theta_vec_cromer, label = \"Angle Euler-Cromer\")\n",
    "plt.plot(sol.t, theta_vec_RK45, label = \"Angle Runge-Kutta 4(5)\")\n",
    "plt.xlabel(\"Time [s]\")\n",
    "plt.ylabel(\"Angle [rad]\")\n",
    "plt.title(\"Angles - all methods\")\n",
    "plt.legend()\n",
    "plt.show()\n",
    "\n",
    "plt.plot(t_vec, total_energy_euler, label = \"Total energy Euler \")\n",
    "plt.plot(t_vec, total_energy_cromer, label = \"Total Euler-Cromer \")\n",
    "plt.plot(sol.t, total_energy_RK45, label = \"Total Runge-Kutta 4(5)\")\n",
    "plt.xlabel(\"Time [s]\")\n",
    "plt.ylabel(\"Energy [J]\")\n",
    "plt.title(\"Total energy - all methods\")\n",
    "plt.legend()\n",
    "plt.show()"
   ]
  },
  {
   "cell_type": "markdown",
   "metadata": {},
   "source": [
    "### Trajectory in phase space\n",
    "\n",
    "We now plot the trajectory in the phase space (i.e. we select the angle and velocity as axes in a 2D coordinate system) for all three methods by using the time step above. The simulations are run for several cycles."
   ]
  },
  {
   "cell_type": "code",
   "execution_count": null,
   "metadata": {
    "scrolled": false
   },
   "outputs": [],
   "source": [
    "plt.plot(theta_vec_euler, omg_vec_euler, label = \"Trajectory Euler\")\n",
    "plt.plot(theta_vec_cromer, omg_vec_cromer, label = \"Trajectory Euler-Cromer\")\n",
    "plt.plot(theta_vec_RK45, omg_vec_RK45, label = \"Trajectory Runge-Kutta 4(5)\")\n",
    "plt.xlabel(\"Angle [rad]\")\n",
    "plt.ylabel(\"Angular velocity [rad/s]\")\n",
    "plt.title(\"Trajectory in phase space\")\n",
    "plt.legend()\n",
    "plt.show()"
   ]
  },
  {
   "cell_type": "markdown",
   "metadata": {},
   "source": [
    "### Different time steps for Euler-Cromer and Runge-Kutta"
   ]
  },
  {
   "cell_type": "code",
   "execution_count": null,
   "metadata": {
    "scrolled": false
   },
   "outputs": [],
   "source": [
    "\"\"\"Euler-Cromer new dt2\"\"\"\n",
    "dt2 = 0.1\n",
    "timesteps = int(sim_time/dt2)\n",
    "\n",
    "\n",
    "#New arrays for Euler-Cromer\n",
    "omg_vec_cromer2 = np.zeros(timesteps)\n",
    "theta_vec_cromer2 = np.zeros(timesteps)\n",
    "\n",
    "# set initial values\n",
    "omg_vec_cromer2[0] = omg_0\n",
    "theta_vec_cromer2[0] = theta_0\n",
    "\n",
    "euler_cromer_solve(theta_vec_cromer2, omg_vec_cromer2, dt2)\n",
    "kin_energy_cromer2, pot_energy_cromer2, total_energy_cromer2 = energies(theta_vec_cromer2, omg_vec_cromer2)\n",
    "\n",
    "plt.plot(theta_vec_cromer2, omg_vec_cromer2, label = f\"Trajectory Euler-Cromer 4(5) dt2 = {dt2}\")\n",
    "plt.xlabel(\"Angle [rad]\")\n",
    "plt.ylabel(\"Angular velocity [rad/s]\")\n",
    "plt.title(\"Phase space\")\n",
    "plt.legend()\n",
    "plt.show()\n",
    "\n",
    "\"\"\"Ruge kutta new dt2\"\"\"\n",
    "dt2 = 0.1\n",
    "\n",
    "sol2 = solve_ivp(ddt_omg_theta, t_span=[0, sim_time], y0=[theta_0, omg_0], max_step = dt2 )\n",
    "theta_vec_RK452, omg_vec_RK452 = sol2.y[0], sol2.y[1]\n",
    "kin_energy_RK452, pot_energy_RK452, total_energy_RK452 = energies(sol2.y[0], sol2.y[1])\n",
    "\n",
    "plt.plot(theta_vec_RK452, omg_vec_RK452, label = f\"Trajectory Runge-Kutta 4(5) dt2_max = {dt2}\")\n",
    "plt.xlabel(\"Angle [rad]\")\n",
    "plt.ylabel(\"Angular velocity [rad/s]\")\n",
    "plt.title(\"Phase space\")\n",
    "plt.legend()\n",
    "plt.show()"
   ]
  },
  {
   "cell_type": "markdown",
   "metadata": {},
   "source": [
    "By trying different values we find that a timestep of $dt ≤ 0.1$ leads to a resonable solutin for both methods."
   ]
  },
  {
   "cell_type": "markdown",
   "metadata": {},
   "source": [
    "### Animation\n",
    "\n",
    "Finally we make a simple animation of the simple pendulum "
   ]
  },
  {
   "cell_type": "code",
   "execution_count": null,
   "metadata": {
    "scrolled": false
   },
   "outputs": [],
   "source": [
    "'''Animation'''\n",
    "# cartesian coordinates of the pendulum tip\n",
    "timesteps = int(sim_time/dt) # back to the old number of time steps\n",
    "x = np.sin(theta_vec_RK45)\n",
    "y = -np.cos(theta_vec_RK45)\n",
    "\n",
    "\n",
    "# Set up fig and stuff for the animated plot\n",
    "fig = plt.figure(figsize=(2,2), dpi=60)\n",
    "ax = plt.axes(xlim=(-2, 2), ylim=(-2, 2))\n",
    "string, = ax.plot([], [], lw=2)\n",
    "mass = plt.Circle((x[0], y[0]), 0.05, color='blue')\n",
    "\n",
    "\n",
    "def init():\n",
    "    string.set_data([],[])\n",
    "    ax.add_artist(mass)\n",
    "    return string,\n",
    "\n",
    "\n",
    "def animate(i):\n",
    "    mass.center = (x[i], y[i])\n",
    "    string.set_data([0, x[i]], [0, y[i]])\n",
    "    return string, mass\n",
    "\n",
    "\n",
    "#anim = FuncAnimation(fig, animate, init_func=init, frames=timesteps, interval=1000*dt, blit=True)\n",
    "#plt.close(anim._fig)\n",
    "#HTML(anim.to_html5_video())"
   ]
  },
  {
   "cell_type": "markdown",
   "metadata": {},
   "source": [
    "# Assignment 2 \n",
    "\n",
    "## Task 1 \n"
   ]
  },
  {
   "cell_type": "code",
   "execution_count": null,
   "metadata": {},
   "outputs": [],
   "source": [
    "#Oppgave 1 \n",
    "#Initial conditions\n",
    "l = 1 # m \n",
    "g = 9.81 # m/s^2\n",
    "theta_0 = 0.2 # rad \n",
    "omega_0 = 0.0 # rad \n",
    "q_def = 1 # s^-1\n",
    "F_d = 0.2 # s^-2\n",
    "sim_time = 10 #s, simulation time\n",
    "dt = 0.001 # s, timestep\n",
    "\n",
    "#print(F_d/(q*np.sqrt(g/l)))\n"
   ]
  },
  {
   "cell_type": "code",
   "execution_count": null,
   "metadata": {},
   "outputs": [],
   "source": [
    "def Df(t, y,q=1,g=9.81,l=1): \n",
    "    return [y[1],-g/l*y[0]-q*y[1]]\n",
    "\n",
    "#Assuming omega_0 = 0 \n",
    "def theta_analytic(t,theta_0=0.2,q=1,g=9.81,l=1):\n",
    "    if q < np.sqrt(4*g/l):\n",
    "        return theta_0*np.exp(-q*t*0.5)*np.sin(np.sqrt((g/l)- q**2/4)*t + np.pi/2)\n",
    "    elif q == np.sqrt(4*g/l):\n",
    "        return (theta_0+theta_0*q*0.5)*np.exp(-q*t/2)\n",
    "    else:\n",
    "        return (theta_0)*(np.exp(-q/2 + np.sqrt(q**2/4 - (g/l)**2)) + np.exp(-q/2 - np.sqrt(q**2/4 - (g/l)**2)))\n",
    "\n",
    "def theta_analytic(t,theta_0=0.2,q=1,g=9.81,l=1):\n",
    "    if q < np.sqrt(4*g/l):\n",
    "        return theta_0*np.exp(-q*t*0.5)*np.sin(np.sqrt((g/l)- q**2/4)*t + np.pi/2)\n",
    "    elif q == np.sqrt(4*g/l):\n",
    "        return (theta_0+theta_0*q*0.5*t)*np.exp(-q*t/2)\n",
    "    else:\n",
    "        return theta_0/2*np.exp((-q/2 + np.sqrt(q**2/4 - g/l))*t) + theta_0/2*np.exp((-q/2 - np.sqrt(q**2/4 - g/l ))*t)\n",
    "    \n"
   ]
  },
  {
   "cell_type": "code",
   "execution_count": null,
   "metadata": {},
   "outputs": [],
   "source": [
    "#Underdamped \n",
    "q_under = np.sqrt(1*g/l)\n",
    "\n",
    "sol_under = solve_ivp(lambda t, y: Df(t,y,q_under), t_span=[0, sim_time], y0=[theta_0, omega_0], max_step = dt )\n",
    "theta_vec_under, omg_vec_under = sol_under.y[0], sol_under.y[1]\n",
    "kin_energy_under, pot_energy_under, total_energy_under = energies(sol_under.y[0], sol_under.y[1])\n",
    "\n",
    "\"\"\"plot results\"\"\"\n",
    "print(\"Undamped\")\n",
    "plt.plot(sol_under.t, theta_vec_under, label = \"Angle numeric \")\n",
    "plt.plot(sol_under.t, theta_analytic(sol_under.t, q = q_under ), label = \"Angle analytic\")\n",
    "plt.xlabel(\"Time [s]\")\n",
    "plt.ylabel(\"Angle [rad]\")\n",
    "plt.legend()\n",
    "plt.show()\n",
    "plt.plot(sol_under.t, total_energy_under[0] - total_energy_under , label = \"Work done by dampening \")\n",
    "#plt.plot(sol.t, total_energy_RK45, label = \"Work done by dampening analytical\")\n",
    "\n",
    "plt.xlabel(\"Time [s]\")\n",
    "plt.ylabel(\"Energy [J]\")\n",
    "plt.legend()\n",
    "plt.show()\n",
    "\n",
    "\n",
    "plt.show()\n",
    "\n",
    "\n"
   ]
  },
  {
   "cell_type": "code",
   "execution_count": null,
   "metadata": {},
   "outputs": [],
   "source": [
    "\n",
    "#Criticaly damped\n",
    "q_crit = np.sqrt(4*g/l)\n",
    "\n",
    "sol_crit = solve_ivp(lambda t, y: Df(t,y,q_crit), t_span=[0, sim_time], y0=[theta_0, omega_0], max_step = dt )\n",
    "theta_vec_crit, omg_vec_crit = sol_crit.y[0], sol_crit.y[1]\n",
    "kin_energy_crit, pot_energy_crit, total_energy_crit = energies(sol_crit.y[0], sol_crit.y[1])\n",
    "\n",
    "\"\"\"plot results\"\"\"\n",
    "print(\"Critically damped\")\n",
    "plt.plot(sol_crit.t, theta_vec_crit, label = \"Angle numeric \")\n",
    "plt.plot(sol_crit.t, theta_analytic(sol_crit.t, q = q_crit ), label = \"Angle analytic\")\n",
    "plt.xlabel(\"Time [s]\")\n",
    "plt.ylabel(\"Angle [rad]\")\n",
    "plt.legend()\n",
    "plt.show()\n",
    "plt.plot(sol_crit.t, total_energy_crit[0] - total_energy_crit , label = \"Work done by dampening \")\n",
    "#plt.plot(sol.t, total_energy_RK45, label = \"Work done by dampening analytical\")\n",
    "\n",
    "plt.xlabel(\"Time [s]\")\n",
    "plt.ylabel(\"Energy [J]\")\n",
    "plt.legend()\n",
    "plt.show()"
   ]
  },
  {
   "cell_type": "code",
   "execution_count": null,
   "metadata": {},
   "outputs": [],
   "source": [
    "\n",
    "\n",
    "#Overdamped \n",
    "q_over = np.sqrt(8*g/l)\n",
    "sol_over = solve_ivp(lambda t, y: Df(t,y,q_over), t_span=[0, sim_time], y0=[theta_0, omega_0], max_step = dt )\n",
    "theta_vec_over, omg_vec_over = sol_over.y[0], sol_over.y[1]\n",
    "kin_energy_over, pot_energy_over, total_energy_over = energies(sol_over.y[0], sol_over.y[1])\n",
    "\n",
    "\"\"\"plot results\"\"\"\n",
    "print(\"Overdamped\")\n",
    "plt.plot(sol_over.t, theta_vec_over, label = \"Angle numeric \")\n",
    "print(theta_analytic(sol_over.t, q = q_over ))\n",
    "\n",
    "plt.plot(sol_over.t, theta_analytic(sol_over.t, q = q_over ), label = \"Angle analytic\")\n",
    "plt.xlabel(\"Time [s]\")\n",
    "plt.ylabel(\"Angle [rad]\")\n",
    "plt.legend()\n",
    "plt.show()\n",
    "plt.plot(sol_over.t, total_energy_over[0] - total_energy_over , label = \"Work done by dampening \")\n",
    "#plt.plot(sol.t, total_energy_RK45, label = \"Work done by dampening analytical\")\n",
    "\n",
    "plt.xlabel(\"Time [s]\")\n",
    "plt.ylabel(\"Energy [J]\")\n",
    "plt.legend()\n",
    "plt.show()"
   ]
  },
  {
   "cell_type": "markdown",
   "metadata": {},
   "source": [
    "## Forced harmonic pendulum"
   ]
  },
  {
   "cell_type": "code",
   "execution_count": null,
   "metadata": {},
   "outputs": [],
   "source": [
    "Fd = 0.2\n",
    "q = 1.0\n",
    "OmgD = 5\n",
    "\n",
    "sim_time = 20\n",
    "dt = 0.01\n",
    "\n",
    "def ddt_omg_forced(theta, omg, t, Fd=Fd):\n",
    "    '''1st order equation for omega'''\n",
    "    return -(g/l)*theta - q*omg + Fd*np.sin(OmgD*t)\n",
    "\n",
    "\n",
    "def ddt_theta_forced(omg):\n",
    "    '''1st order equation for theta'''\n",
    "    return omg\n",
    "\n",
    "\n",
    "def ddt_omg_theta_forced(t, y):\n",
    "    '''\n",
    "    pair of 1st order equations.\n",
    "    '''\n",
    "    return [ddt_theta_forced(y[1]) ,ddt_omg_forced(y[0], y[1], t)]\n",
    "\n",
    "\n",
    "sol_forced = solve_ivp(ddt_omg_theta_forced, [0, sim_time], [theta_0, 0], max_step=dt)\n",
    "theta_vec_f, omg_vec_f = sol_forced.y[0], sol_forced.y[1]\n",
    "\n",
    "\n",
    "OmgDs = np.linspace(1, 20, 40)\n",
    "amplitudes = np.zeros(len(OmgDs))\n",
    "\n",
    "\n",
    "for i in range(len(OmgDs)):\n",
    "    OmgD = OmgDs[i]\n",
    "    sol_forced_tmp = solve_ivp(ddt_omg_theta_forced, [0, sim_time], [theta_0, 0], max_step=dt)\n",
    "    theta_vec_f_tmp, omg_vec_f = sol_forced_tmp.y[0], sol_forced_tmp.y[1]\n",
    "    equilibrium_thetas = theta_vec_f_tmp[(len(theta_vec_f_tmp)//2):]\n",
    "    amplitudes[i] = max(equilibrium_thetas)\n",
    "\n",
    "\n",
    "    \n",
    "def eq_analytical(OmgD):\n",
    "    return Fd/(np.sqrt((np.sqrt(g/l)**2 - OmgD**2)**2 + (q*OmgD)**2))\n",
    "\n",
    "'''\n",
    "kin_energy_f, pot_energy_f, total_energy_f = energies(sol_forced.y[0], sol_forced.y[1])\n",
    "\n",
    "plt.plot(sol_forced.t, kin_energy_f, label=\"kinetic energy\")\n",
    "plt.plot(sol_forced.t, pot_energy_f, label=\"potential energy\")\n",
    "plt.plot(sol_forced.t, total_energy_f, label=\"total energy\")\n",
    "plt.xlabel(\"Time [s]\")\n",
    "plt.ylabel(\"Energy [J]\")\n",
    "plt.title(\"Energy - _f\")\n",
    "plt.legend()\n",
    "plt.show()\n",
    "'''\n",
    "\n",
    "\n",
    "plt.plot(sol_forced.t, theta_vec_f, label = \"Angle forced dampend 4(5)\")\n",
    "plt.show()\n",
    "\n",
    "plt.plot(OmgDs/np.sqrt(g/l), amplitudes)\n",
    "plt.show()\n",
    "\n",
    "plt.plot(OmgDs/np.sqrt(g/l), eq_analytical(OmgDs))\n",
    "plt.show()"
   ]
  },
  {
   "cell_type": "code",
   "execution_count": null,
   "metadata": {},
   "outputs": [],
   "source": []
  },
  {
   "cell_type": "code",
   "execution_count": null,
   "metadata": {},
   "outputs": [],
   "source": []
  }
 ],
 "metadata": {
  "kernelspec": {
   "display_name": "Python 3",
   "language": "python",
   "name": "python3"
  },
  "language_info": {
   "codemirror_mode": {
    "name": "ipython",
    "version": 3
   },
   "file_extension": ".py",
   "mimetype": "text/x-python",
   "name": "python",
   "nbconvert_exporter": "python",
   "pygments_lexer": "ipython3",
   "version": "3.7.4"
  }
 },
 "nbformat": 4,
 "nbformat_minor": 2
}
