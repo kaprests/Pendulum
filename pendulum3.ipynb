{
 "cells": [
  {
   "cell_type": "markdown",
   "metadata": {},
   "source": [
    "# TFY4345 - Classical Mechanics - Numerical Exercise part 3\n",
    "\n",
    "### Alexander Arntzen | Knut Andre G. Prestsveen\n",
    "\n",
    "This is a project in the course TFY4345 \"Classical Mechanics\" at the Norwegian University of Science and Technology. This notebook is the third part of the project, and studies <b>(...)</b>\n",
    "\n",
    "The source code lies on [GitHub](https://github.com/kaprests/Pendulum)."
   ]
  },
  {
   "cell_type": "code",
   "execution_count": null,
   "metadata": {},
   "outputs": [],
   "source": [
    "'''Imports packages, functions and constants'''\n",
    "# Simple pendulum with Eulers method:\n",
    "import numpy as np\n",
    "from matplotlib import pyplot as plt\n",
    "from matplotlib import rc\n",
    "from matplotlib.animation import FuncAnimation\n",
    "from scipy.constants import g\n",
    "from scipy.integrate import solve_ivp\n",
    "from IPython.display import HTML\n",
    "plt.style.use(\"bmh\")"
   ]
  },
  {
   "cell_type": "code",
   "execution_count": null,
   "metadata": {},
   "outputs": [],
   "source": [
    "# Set common figure parameters:\n",
    "newparams = {'axes.labelsize': 11, 'axes.linewidth': 1, 'savefig.dpi': 300, \n",
    "             'lines.linewidth': 1.0, 'figure.figsize': (8, 3),\n",
    "             'ytick.labelsize': 10, 'xtick.labelsize': 10,\n",
    "             'ytick.major.pad': 5, 'xtick.major.pad': 5,}\n",
    "plt.rcParams.update(newparams)"
   ]
  },
  {
   "cell_type": "code",
   "execution_count": null,
   "metadata": {},
   "outputs": [],
   "source": [
    "'''Total energy of a pendulum'''\n",
    "def energies(theta, omg):\n",
    "    '''\n",
    "    Calculates the kinetic, potential and total energies of a pendulum.\n",
    "    \n",
    "    Input:\n",
    "        theta: angle between the pendulum and the vertical axis.\n",
    "        omg: the angular velocity of the pendulum.\n",
    "    Returns:\n",
    "        T: the pendulum's kinetic energy.\n",
    "        V: the pendulum's potential energy.\n",
    "        E_tot: the pendulum's total energy.\n",
    "    '''\n",
    "    T = (1/2)*m*(l**2)*omg**2\n",
    "    V = m*g*l*(1 - np.cos(theta))\n",
    "    E_tot = T + V\n",
    "    return T, V, E_tot"
   ]
  },
  {
   "cell_type": "code",
   "execution_count": null,
   "metadata": {},
   "outputs": [],
   "source": [
    "'''Parameters and properties'''\n",
    "#Initial conditions and properties\n",
    "m = 1 #kg \n",
    "l = g\n",
    "theta_0 = 0.2 # rad \n",
    "omega_0 = 0.0 # rad \n",
    "q = 0.5 # s^-1\n",
    "omg_d = 2/3 # driving freq. for forced oscillator\n",
    "F_d = 1.2 # s^-2\n",
    "\n",
    "\n",
    "sim_time = 60 #s, simulation time\n",
    "dt = 0.1 # s, timestep\n"
   ]
  },
  {
   "cell_type": "markdown",
   "metadata": {},
   "source": [
    "## Forced physical oscillator\n",
    "\n",
    "Here we look at a forced physical pendulum, meaning no small angle approximations."
   ]
  },
  {
   "cell_type": "code",
   "execution_count": null,
   "metadata": {},
   "outputs": [],
   "source": [
    "def ddt_omg_theta(t, y, omg_d=omg_d, q=q, F_d=F_d, g=g, l=l): \n",
    "    '''\n",
    "    Functions defining the eqn. of motion as a pair of\n",
    "    first order eqns.\n",
    "    '''\n",
    "    return [y[1], -g/l*np.sin(y[0]) - q*y[1] + F_d*np.sin(omg_d*t)]\n",
    "\n",
    "\n",
    "def steady_amp_analytical(omg_d=omg_d, F_d=F_d, q=q):\n",
    "    return F_d/(np.sqrt((np.sqrt(g/l)**2 - omg_d**2)**2 + (q*omg_d)**2))\n",
    "\n",
    "\n",
    "def solve_and_plot(F_d=F_d, theta_0=theta_0):\n",
    "    sol = solve_ivp(lambda t, y: ddt_omg_theta(t,y, omg_d=omg_d, q=q, F_d=F_d), t_span=[0, sim_time], y0=[theta_0, omega_0], max_step = dt )\n",
    "    theta_vec = sol.y[0]\n",
    "    omega_vec = sol.y[1]\n",
    "    theta_vec += np.pi\n",
    "    thetas = (theta_vec + 2 * np.pi) % (2 * np.pi)\n",
    "    thetas -= np.pi\n",
    "    plt.plot(sol.t, thetas,\".\",label = \"Angle numeric \")\n",
    "    plt.xlabel(\"Time [s]\")\n",
    "    plt.ylabel(\"Angle [rad]\")\n",
    "    plt.legend()\n",
    "    plt.title(f\"Driving force:{F_d}\")\n",
    "    plt.show()\n",
    "    \n",
    "    plt.plot(sol.t, omega_vec,\".\",label = \"Angle numeric \")\n",
    "    plt.xlabel(\"Time [s]\")\n",
    "    plt.ylabel(\"Angular velocety [rad/s]\")\n",
    "    plt.legend()\n",
    "    plt.title(f\"Driving force:{F_d}\")\n",
    "    plt.show()\n",
    "    \n",
    "    \n",
    "def solve_two_and_plot_diff(F_d=F_d, theta_0=theta_0, F_d2=F_d, theta_02=theta_0):\n",
    "    sol = solve_ivp(lambda t, y: ddt_omg_theta(t,y, omg_d=omg_d, q=q, F_d=F_d), t_span=[0, sim_time], y0=[theta_0, omega_0], max_step = dt )\n",
    "    sol2 = solve_ivp(lambda t, y: ddt_omg_theta(t,y, omg_d=omg_d, q=q, F_d=F_d2), t_span=[0, sim_time], y0=[theta_02, omega_0], max_step = dt )\n",
    "    delta_theta_vec = np.abs(sol2.y[0] - sol.y[0])\n",
    "    delta_theta_vec += np.pi\n",
    "    deltas= (delta_theta_vec + 2 * np.pi) % (2 * np.pi)\n",
    "    deltas -= np.pi\n",
    "    plt.semilogy(sol.t, deltas,\".\",label = \"Difference\")\n",
    "    plt.xlabel(\"Time [s]\")\n",
    "    plt.ylabel(\"Angle [rad]\")\n",
    "    plt.legend()\n",
    "    plt.title(f\"Driving force:{F_d}\")\n",
    "    plt.show()\n",
    "    \n",
    "def solve_and_plot_phase(F_d=F_d, theta_0=theta_0,sim_time=sim_time):\n",
    "    sol = solve_ivp(lambda t, y: ddt_omg_theta(t,y, omg_d=omg_d, q=q, F_d=F_d), t_span=[0, sim_time], y0=[theta_0, omega_0], max_step = dt )\n",
    "    theta_vec = sol.y[0]\n",
    "    omega_vec = sol.y[1]\n",
    "    theta_vec += np.pi\n",
    "    thetas = (theta_vec + 2 * np.pi) % (2 * np.pi)\n",
    "    thetas -= np.pi\n",
    "    plt.plot(thetas[0], omega_vec[0],\"*\",label = \"Start\")\n",
    "    plt.plot(thetas[-1], omega_vec[-1],\"*\",label = \"End\")\n",
    "    plt.plot(thetas, omega_vec,linewidth=0.01,label = \"Tradjectory numeric \")\n",
    "    plt.xlabel(\"Angle [s]\")\n",
    "    plt.ylabel(\"Omega [rad]\")\n",
    "    plt.legend(loc=1)\n",
    "    plt.title(f\"Driving force::{F_d}\")\n",
    "    plt.show()\n",
    "    indexes = np.argwhere(sol.t % (np.pi*2/omg_d )<= dt)\n",
    "    plt.plot(thetas[indexes], omega_vec[indexes] ,\".\",label= \"Tradjectory  \")\n",
    "    plt.xlabel(\"Angle [s]\")\n",
    "    plt.ylabel(\"Omega [rad]\")\n",
    "    plt.legend(loc=1)\n",
    "    plt.title(f\"Driving force::{F_d} stratosocpic\")\n",
    "    plt.show()\n",
    "    \n",
    "    return sol.t\n",
    "    \n",
    "    \n",
    "    "
   ]
  },
  {
   "cell_type": "markdown",
   "metadata": {},
   "source": [
    "Below we simulate the pendulum for 60 seconds with three different values of the driving force, and plot the angle at each timestep.\n",
    "\n",
    "The angle is measured between the pendulums \"rod\" and the vertical axis, and an angle of zero corresponds to the pendulums equilibrium position."
   ]
  },
  {
   "cell_type": "code",
   "execution_count": null,
   "metadata": {},
   "outputs": [],
   "source": [
    "driving_forces = [0.0, 0.5, 1.2]\n",
    "\n",
    "for f_d in driving_forces:\n",
    "    solve_and_plot(F_d=f_d)"
   ]
  },
  {
   "cell_type": "markdown",
   "metadata": {},
   "source": [
    "### Displacement of initial angle\n",
    "\n",
    "Now we simulate again with driving forces 0.5 and 1.2, with the initial angle displaced by 0.001 rad."
   ]
  },
  {
   "cell_type": "code",
   "execution_count": null,
   "metadata": {},
   "outputs": [],
   "source": [
    "displacement = 0.001 # radians\n",
    "\n",
    "for F_d in driving_forces[1:]:\n",
    "    solve_and_plot(F_d=F_d, theta_0=theta_0+displacement)"
   ]
  },
  {
   "cell_type": "markdown",
   "metadata": {},
   "source": [
    "By quick inspection we can see that the case with driving force of 1.2, that the small initial displacement has affected the pendulums motion, and we plot the difference between the angles of the cases with and without displacement."
   ]
  },
  {
   "cell_type": "code",
   "execution_count": null,
   "metadata": {},
   "outputs": [],
   "source": [
    "# Yea this seems weird to me, but also not totaly sure what to expect from these plots\n",
    "for F_d in driving_forces[1:]:\n",
    "    solve_two_and_plot_diff(F_d=F_d, F_d2=F_d, theta_02=theta_0+displacement)"
   ]
  },
  {
   "cell_type": "code",
   "execution_count": null,
   "metadata": {},
   "outputs": [],
   "source": [
    "driving_forces = [ 0.5, 1.2]\n",
    "t =0\n",
    "for f_d in driving_forces:\n",
    "     t = solve_and_plot_phase(F_d=f_d,sim_time=15000)\n",
    "    "
   ]
  },
  {
   "cell_type": "markdown",
   "metadata": {},
   "source": [
    "In the last plot we can indeed see the Poincare section. However, in the the first situation the system is not exhibit chaotic motion"
   ]
  }
 ],
 "metadata": {
  "kernelspec": {
   "display_name": "Python 3",
   "language": "python",
   "name": "python3"
  },
  "language_info": {
   "codemirror_mode": {
    "name": "ipython",
    "version": 3
   },
   "file_extension": ".py",
   "mimetype": "text/x-python",
   "name": "python",
   "nbconvert_exporter": "python",
   "pygments_lexer": "ipython3",
   "version": "3.7.4"
  }
 },
 "nbformat": 4,
 "nbformat_minor": 2
}
