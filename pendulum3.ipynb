{
 "cells": [
  {
   "cell_type": "markdown",
   "metadata": {},
   "source": [
    "# TFY4345 - Classical Mechanics - Numerical Exercise part 3\n",
    "\n",
    "### Alexander Arntzen | Knut Andre G. Prestsveen\n",
    "\n",
    "This is a project in the course TFY4345 \"Classical Mechanics\" at the Norwegian University of Science and Technology. This notebook is the third part of the project, and studies <b>(...)</b>\n",
    "\n",
    "The source code lies on [GitHub](https://github.com/kaprests/Pendulum)."
   ]
  },
  {
   "cell_type": "code",
   "execution_count": null,
   "metadata": {},
   "outputs": [],
   "source": [
    "'''Imports packages, functions and constants'''\n",
    "# Simple pendulum with Eulers method:\n",
    "import numpy as np\n",
    "from matplotlib import pyplot as plt\n",
    "from matplotlib import rc\n",
    "from matplotlib.animation import FuncAnimation\n",
    "from scipy.constants import g\n",
    "from scipy.integrate import solve_ivp\n",
    "from IPython.display import HTML"
   ]
  },
  {
   "cell_type": "code",
   "execution_count": null,
   "metadata": {},
   "outputs": [],
   "source": [
    "# Set common figure parameters:\n",
    "newparams = {'axes.labelsize': 11, 'axes.linewidth': 1, 'savefig.dpi': 300, \n",
    "             'lines.linewidth': 1.0, 'figure.figsize': (8, 3),\n",
    "             'ytick.labelsize': 10, 'xtick.labelsize': 10,\n",
    "             'ytick.major.pad': 5, 'xtick.major.pad': 5,}\n",
    "plt.rcParams.update(newparams)"
   ]
  },
  {
   "cell_type": "code",
   "execution_count": null,
   "metadata": {},
   "outputs": [],
   "source": [
    "'''Total energy of a pendulum'''\n",
    "def energies(theta, omg):\n",
    "    '''\n",
    "    Calculates the kinetic, potential and total energies of a pendulum.\n",
    "    \n",
    "    Input:\n",
    "        theta: angle between the pendulum and the vertical axis.\n",
    "        omg: the angular velocity of the pendulum.\n",
    "    Returns:\n",
    "        T: the pendulum's kinetic energy.\n",
    "        V: the pendulum's potential energy.\n",
    "        E_tot: the pendulum's total energy.\n",
    "    '''\n",
    "    T = (1/2)*m*(l**2)*omg**2\n",
    "    V = m*g*l*(1 - np.cos(theta))\n",
    "    E_tot = T + V\n",
    "    return T, V, E_tot"
   ]
  },
  {
   "cell_type": "markdown",
   "metadata": {},
   "source": [
    "Consider the following parameters for this physical pendulum problem.\n",
    "\n",
    "    Length of pendulum vs. gravitational acceleration, l = g = 9.8\n",
    "    Initial angle of the string with respect to the vertical, θ = 0.2 \n",
    "    Initial angular velocity, ω = 0.0 \n",
    "    Damping parameter (friction parameter, default value), q = 0.5 \n",
    "    Driving frequency ΩD = 2/3\n",
    "    Driving force (default value), FD = 0.5\n"
   ]
  },
  {
   "cell_type": "code",
   "execution_count": null,
   "metadata": {},
   "outputs": [],
   "source": [
    "'''Parameters and properties'''\n",
    "#Initial conditions and properties\n",
    "m = 1 #kg \n",
    "l = g\n",
    "theta_0 = 0.2 # rad \n",
    "omega_0 = 0.0 # rad \n",
    "q = 0.5 # s^-1\n",
    "omg_d = 2/3 # driving freq. for forced oscillator\n",
    "F_d = 1.2 # s^-2\n",
    "\n",
    "\n",
    "sim_time = 60 #s, simulation time\n",
    "dt = 0.1 # s, timestep\n"
   ]
  },
  {
   "cell_type": "markdown",
   "metadata": {},
   "source": [
    "## Forced physical oscillator\n",
    "\n",
    "Now we add a forcing term to the equation and abandon the small angle approximation."
   ]
  },
  {
   "cell_type": "code",
   "execution_count": null,
   "metadata": {},
   "outputs": [],
   "source": [
    "def ddt_omg_theta(t, y, omg_d=omg_d, q=q, F_d=F_d, g=g, l=l): \n",
    "    '''\n",
    "    Functions defining the eqn. of motion as a pair of\n",
    "    first order eqns.\n",
    "    '''\n",
    "    return [y[1], -g/l*np.sin(y[0]) - q*y[1] + F_d*np.sin(omg_d*t)]\n",
    "\n",
    "\n",
    "def steady_amp_analytical(omg_d=omg_d, F_d=F_d, q=q):\n",
    "    return F_d/(np.sqrt((np.sqrt(g/l)**2 - omg_d**2)**2 + (q*omg_d)**2))\n"
   ]
  },
  {
   "cell_type": "code",
   "execution_count": null,
   "metadata": {},
   "outputs": [],
   "source": [
    "'''Apply the solution'''\n",
    "sol = solve_ivp(lambda t, y: ddt_omg_theta(t,y, omg_d=omg_d, q=q), t_span=[0, sim_time], y0=[theta_0, omega_0], max_step = dt )\n",
    "\n",
    "theta_vec = sol.y[0]\n",
    "\n",
    "theta_vec += np.pi\n",
    "thetas = (theta_vec + 2 * np.pi) % (2 * np.pi)\n",
    "thetas -= np.pi\n",
    "\n",
    "'''\n",
    "for theta in theta_vec:\n",
    "    if theta > np.pi:\n",
    "        while theta > np.pi:\n",
    "            theta -= 2 * np.pi\n",
    "    if theta < -np.pi:\n",
    "        while theta < -np.pi:\n",
    "            theta += np.pi\n",
    "            \n",
    "'''\n"
   ]
  },
  {
   "cell_type": "code",
   "execution_count": null,
   "metadata": {},
   "outputs": [],
   "source": [
    "'''Plot the results'''\n",
    "\n",
    "plt.plot(sol.t, thetas,label = \"Angle numeric \")\n",
    "plt.xlabel(\"Time [s]\")\n",
    "plt.ylabel(\"Angle [rad]\")\n",
    "plt.legend()\n",
    "plt.show()"
   ]
  },
  {
   "cell_type": "markdown",
   "metadata": {},
   "source": [
    "^Dette plottet er ganske weird, men det stod i oppgaven at vi skulle gjøre sånn. Idk why."
   ]
  },
  {
   "cell_type": "code",
   "execution_count": null,
   "metadata": {},
   "outputs": [],
   "source": []
  }
 ],
 "metadata": {
  "kernelspec": {
   "display_name": "Python 3",
   "language": "python",
   "name": "python3"
  },
  "language_info": {
   "codemirror_mode": {
    "name": "ipython",
    "version": 3
   },
   "file_extension": ".py",
   "mimetype": "text/x-python",
   "name": "python",
   "nbconvert_exporter": "python",
   "pygments_lexer": "ipython3",
   "version": "3.7.4"
  }
 },
 "nbformat": 4,
 "nbformat_minor": 2
}
